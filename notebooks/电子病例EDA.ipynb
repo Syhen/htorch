{
 "cells": [
  {
   "cell_type": "code",
   "execution_count": 1,
   "metadata": {},
   "outputs": [],
   "source": [
    "import pandas as pd"
   ]
  },
  {
   "cell_type": "code",
   "execution_count": 2,
   "metadata": {},
   "outputs": [
    {
     "name": "stdout",
     "output_type": "stream",
     "text": [
      "(25738, 13)\n"
     ]
    },
    {
     "data": {
      "text/html": [
       "<div>\n",
       "<style scoped>\n",
       "    .dataframe tbody tr th:only-of-type {\n",
       "        vertical-align: middle;\n",
       "    }\n",
       "\n",
       "    .dataframe tbody tr th {\n",
       "        vertical-align: top;\n",
       "    }\n",
       "\n",
       "    .dataframe thead th {\n",
       "        text-align: right;\n",
       "    }\n",
       "</style>\n",
       "<table border=\"1\" class=\"dataframe\">\n",
       "  <thead>\n",
       "    <tr style=\"text-align: right;\">\n",
       "      <th></th>\n",
       "      <th>CBH</th>\n",
       "      <th>CBQMC</th>\n",
       "      <th>CBRH</th>\n",
       "      <th>CBRID</th>\n",
       "      <th>CFZJCJG</th>\n",
       "      <th>CGRS</th>\n",
       "      <th>CHYS</th>\n",
       "      <th>CJBS</th>\n",
       "      <th>CJZS</th>\n",
       "      <th>CKSMC</th>\n",
       "      <th>CTGJCJG</th>\n",
       "      <th>CXBS</th>\n",
       "      <th>CZS</th>\n",
       "    </tr>\n",
       "  </thead>\n",
       "  <tbody>\n",
       "    <tr>\n",
       "      <th>0</th>\n",
       "      <td>55211</td>\n",
       "      <td>呼吸内科</td>\n",
       "      <td>17016034</td>\n",
       "      <td>130129</td>\n",
       "      <td>老年男性，因受凉后急性发病。临床表现为咳嗽、咳痰、发热、气促、流涕、鼻塞、下腹部隐痛表现。查...</td>\n",
       "      <td>个人史：生于贵州省安顺市，无长期外地久居史，否认疫区接触史，吸土烟50年，约3两/月，偶有饮...</td>\n",
       "      <td>婚育史（含月经史）：18结婚，育有7个子女，配偶已故，子女体健。</td>\n",
       "      <td>既往史:有“窦性心动过缓”20+年；5+年前曾因“前列腺增生症”行手术治疗（具体诊治不详）；...</td>\n",
       "      <td>家族史：父母已故，具体死因不详；否认家族遗传病史及类似疾病病史。</td>\n",
       "      <td>呼吸内科</td>\n",
       "      <td>T 36℃       P 79次/分      R 22次/分     Bp 133/89...</td>\n",
       "      <td>现病史:1周前患者因受凉后出现咳嗽、咳痰，呈阵发性串咳，咳白色粘痰，量中，不易咳出，以夜间尤...</td>\n",
       "      <td>主  诉:咳嗽、咳痰伴发热、气促1周</td>\n",
       "    </tr>\n",
       "  </tbody>\n",
       "</table>\n",
       "</div>"
      ],
      "text/plain": [
       "     CBH CBQMC      CBRH   CBRID  \\\n",
       "0  55211  呼吸内科  17016034  130129   \n",
       "\n",
       "                                             CFZJCJG  \\\n",
       "0  老年男性，因受凉后急性发病。临床表现为咳嗽、咳痰、发热、气促、流涕、鼻塞、下腹部隐痛表现。查...   \n",
       "\n",
       "                                                CGRS  \\\n",
       "0  个人史：生于贵州省安顺市，无长期外地久居史，否认疫区接触史，吸土烟50年，约3两/月，偶有饮...   \n",
       "\n",
       "                               CHYS  \\\n",
       "0  婚育史（含月经史）：18结婚，育有7个子女，配偶已故，子女体健。   \n",
       "\n",
       "                                                CJBS  \\\n",
       "0  既往史:有“窦性心动过缓”20+年；5+年前曾因“前列腺增生症”行手术治疗（具体诊治不详）；...   \n",
       "\n",
       "                               CJZS CKSMC  \\\n",
       "0  家族史：父母已故，具体死因不详；否认家族遗传病史及类似疾病病史。  呼吸内科   \n",
       "\n",
       "                                             CTGJCJG  \\\n",
       "0  T 36℃       P 79次/分      R 22次/分     Bp 133/89...   \n",
       "\n",
       "                                                CXBS                 CZS  \n",
       "0  现病史:1周前患者因受凉后出现咳嗽、咳痰，呈阵发性串咳，咳白色粘痰，量中，不易咳出，以夜间尤...  主  诉:咳嗽、咳痰伴发热、气促1周  "
      ]
     },
     "execution_count": 2,
     "metadata": {},
     "output_type": "execute_result"
    }
   ],
   "source": [
    "data = pd.read_csv(\"/home/heyao/Desktop/电子病例.csv\")\n",
    "print(data.shape)\n",
    "data.head(1)"
   ]
  },
  {
   "cell_type": "markdown",
   "metadata": {},
   "source": [
    "# CBQMC"
   ]
  },
  {
   "cell_type": "code",
   "execution_count": null,
   "metadata": {},
   "outputs": [],
   "source": []
  }
 ],
 "metadata": {
  "kernelspec": {
   "display_name": "pytorch",
   "language": "python",
   "name": "pytorch"
  },
  "language_info": {
   "codemirror_mode": {
    "name": "ipython",
    "version": 3
   },
   "file_extension": ".py",
   "mimetype": "text/x-python",
   "name": "python",
   "nbconvert_exporter": "python",
   "pygments_lexer": "ipython3",
   "version": "3.7.3"
  }
 },
 "nbformat": 4,
 "nbformat_minor": 2
}
