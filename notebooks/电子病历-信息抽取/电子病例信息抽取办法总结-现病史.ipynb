{
 "cells": [
  {
   "cell_type": "markdown",
   "metadata": {},
   "source": [
    "简化抽取：\n",
    "\n",
    "1. 将电子病例严格分为8部分；\n",
    "2. 对每部分编写抽取规则；"
   ]
  },
  {
   "cell_type": "markdown",
   "metadata": {},
   "source": [
    "现病史抽取：\n",
    "\n",
    "1. 出现的类型：\n",
    "    1. 时间段：1小时前\n",
    "    2. 症状：疼痛\n",
    "    3. 否定词：未、无\n",
    "    4. 检查手段：CT检查\n",
    "    5. 程度词：较差，尚可\n",
    "    6. 部位：全身多处\n",
    "    7. 连接词：、及\n",
    "    8. 单位：52U/L\n",
    "    9. 指标：指标+单位\n",
    "    10. 疾病：肝硬化\n",
    "    11. 原因：无明显诱因"
   ]
  },
  {
   "cell_type": "code",
   "execution_count": 1,
   "metadata": {},
   "outputs": [],
   "source": [
    "import re\n",
    "\n",
    "import jieba"
   ]
  },
  {
   "cell_type": "code",
   "execution_count": 2,
   "metadata": {},
   "outputs": [
    {
     "name": "stderr",
     "output_type": "stream",
     "text": [
      "Building prefix dict from the default dictionary ...\n",
      "Loading model from cache /tmp/jieba.cache\n"
     ]
    },
    {
     "name": "stdout",
     "output_type": "stream",
     "text": [
      "患者4+年前自检发现左乳包块于本院就诊，考虑乳腺肿物，于2013-10-20行肿物切除术，术后病理提示：乳腺浸润癌。后为进一步治疗，于2013-11-04就诊于中山大学附属肿瘤医院门诊，行病理会诊：（左侧乳腺）浸润性导管癌（II级：伴癌旁纤维囊性乳腺病），免疫组化：ER（100%+），ER-β（5%+）,PR（45%+），Her-2（-），E-Cad（+++），P53（+），TOPIIa（-），EGFR（-），VEGF(+++),SMA、Calponin、CK5/6、CD10及P63均（-），34βE12（+++）。后于2013-11-07于中山大学附属肿瘤医院住院行乳腺癌根治术及化疗治疗，化疗结束后患者定期体检。1+月前体检时发现右乳有一大小约0.3*0.3cm大小结节，无乳房疼痛，表面皮肤无红肿、破溃，无乳头溢液、溢血，上肢无肿胀、麻木，无低热盗汗、恶心、呕吐、头晕、头痛、咳嗽、咳痰、咳血、发热、腹痛、腹泻，就诊于我院门诊，在门诊拟诊断为“右乳包块”收入院。患者自患病以来，精神状态良好，体力情况良好，食欲食量良好，睡眠情况良好，体重无明显变化，大便正常，小便正常。\n"
     ]
    },
    {
     "name": "stderr",
     "output_type": "stream",
     "text": [
      "Loading model cost 0.492 seconds.\n",
      "Prefix dict has been built succesfully.\n"
     ]
    }
   ],
   "source": [
    "text = \"患者20+天前无明显诱因出现头昏，时感昏昏沉沉，不清爽，无明显头痛。伴乏力、行走不稳及踩棉花感，记忆力、计算力有所下降，无视物模糊及视物旋转，无黑朦、耳鸣，无恶心、呕吐，无偏瘫、失语，无抽搐及大小便失禁，无胸痛及心悸，无口角歪斜，无眩晕、流涎，无心悸、胸闷、气促，无发热、寒战，无厌油、纳差，无腹痛、腹胀、腹泻。无尿频、尿急、尿痛等不适，现为求进一步治疗就诊于我院，门诊以“脑梗死”收入我科，患者病来饮食尚可，精神、睡眠差，大小便正常，体重未见明显增减。\"\n",
    "text = \"患者4+年前自检发现左乳包块于本院就诊，考虑乳腺肿物，于2013-10-20行肿物切除术，术后病理提示：乳腺浸润癌。后为进一步治疗，于2013-11-04就诊于中山大学附属肿瘤医院门诊，行病理会诊：（左侧乳腺）浸润性导管癌（II级：伴癌旁纤维囊性乳腺病），免疫组化：ER（100%+），ER-β（5%+）,PR（45%+），Her-2（-），E-Cad（+++），P53（+），TOPIIa（-），EGFR（-），VEGF(+++),SMA、Calponin、CK5/6、CD10及P63均（-），34βE12（+++）。后于2013-11-07于中山大学附属肿瘤医院住院行乳腺癌根治术及化疗治疗，化疗结束后患者定期体检。1+月前体检时发现右乳有一大小约0.3*0.3cm大小结节，无乳房疼痛，表面皮肤无红肿、破溃，无乳头溢液、溢血，上肢无肿胀、麻木，无低热盗汗、恶心、呕吐、头晕、头痛、咳嗽、咳痰、咳血、发热、腹痛、腹泻，就诊于我院门诊，在门诊拟诊断为“右乳包块”收入院。患者自患病以来，精神状态良好，体力情况良好，食欲食量良好，睡眠情况良好，体重无明显变化，大便正常，小便正常。\"\n",
    "# text = \"现病史:患者因“发现左乳无痛性包块1+月”于2017.09.26入院，排除手术禁忌后于9月28日行左乳肿物切除术+组织筋膜瓣成形术。术后病理：“左乳”结合HE组织形态及免疫组化标记结果支持浸润性导管癌伴导管内癌。免疫组化标记结果：肿瘤细胞呈：PR+、ER+、P63部分+、P120膜+、Ki67+5%、PCNA+70%、CK+、CK5/6+、E-cadherin+、BRCA1点+、S-100灶+、P53-、Her-2-、GST-π；于2017年10月18日左乳癌根治术+左腋窝前哨淋巴结活检术。术后诊断：左乳癌。根治术后病理：“左腋窝前哨淋巴结”淋巴结3枚，未见肿瘤转移。“左腋窝前哨淋巴结周围组织”淋巴结2枚，未见肿瘤转移。“左乳”肿瘤已被切除，未见癌残留；皮肤及“胸肌间组织”未见癌累及。结合患者包块病理、免疫组化结果及根治术后淋巴结转移情况，告知患方病情，患方选择继续行术后化疗，告知患方化疗方案及风险，于2017年11月6日行术后第一次化疗，方案为4期多西他赛100mg；环磷酰胺0.7g；于2017年11月28日行术后第二次化疗，方案为多西他赛100mg；环磷酰胺按0.8g；于2017年12月20日行术后第三次化疗，用药量为多西他赛100mg；环磷酰胺按0.8g；现患者为行术后第四次化疗就诊于门诊，门诊拟“左乳癌术后”收入我科。患者自上次化疗结束至今，精神状态良好，体力情况良好，食欲食量良好，睡眠情况良好，体重无明显变化，大便正常，小便正常。\"\n",
    "print(text)\n",
    "for word in [\"Her-2\", \"34βE12\", \"EGFR\", \"CK5/6\"]:\n",
    "    jieba.add_word(word, 100)"
   ]
  },
  {
   "cell_type": "code",
   "execution_count": 3,
   "metadata": {},
   "outputs": [
    {
     "name": "stdout",
     "output_type": "stream",
     "text": [
      "[('4+年前', '4+年', '年'), ('1+月前', '1+月', '月'), ('3月', '3月', '月')]\n",
      "(2, 6)\n"
     ]
    }
   ],
   "source": [
    "decimal = r\"\\d+[\\.\\-\\+]?[\\d]*[\\+]?\"\n",
    "date_units = [\"小时\", \"分钟\", \"秒\", \"天\", \"周\", \"星期\", \"月\", \"年\"]\n",
    "units = \"|\".join(date_units)\n",
    "PATTERN_DATE_RANGE = re.compile(fr\"[^年月](({decimal}({units}))[前后]?)[^\\d]+\")\n",
    "print(PATTERN_DATE_RANGE.findall(text + \"，2016年3月4日，2016年3月，3月4日，3月，\"))\n",
    "print(PATTERN_DATE_RANGE.search(text).span(1))"
   ]
  },
  {
   "cell_type": "code",
   "execution_count": 4,
   "metadata": {},
   "outputs": [
    {
     "name": "stdout",
     "output_type": "stream",
     "text": [
      "[('2013-10-20', '2013-10-20', '2013', '20', '10', '-20', '20', '', '', ''), ('2013-11-04', '2013-11-04', '2013', '20', '11', '-04', '04', '', '', ''), ('2013-11-07', '2013-11-07', '2013', '20', '11', '-07', '07', '', '', ''), ('2016年3月4日', '2016年3月4日', '2016', '20', '3', '4日', '4', '', '', ''), ('2016年3月', '2016年3月', '2016', '20', '3', '', '', '', '', ''), ('3月4日', '', '', '', '', '', '', '3月4日', '3', '4')]\n",
      "(28, 38)\n"
     ]
    }
   ],
   "source": [
    "year = r\"((19|20)\\d{2})\"\n",
    "month = r\"(1[012]|0?[1-9])\"\n",
    "day = r\"([12]\\d|30|31|0?[1-9])\"\n",
    "PATTERN_DATE_TIME = re.compile(fr\"(({year}[年\\-\\.\\/]{month}[月]?([\\-\\./]?{day}[日]?)?)|({month}月{day}日))\")\n",
    "print(PATTERN_DATE_TIME.findall(text + \"，2016年3月4日，2016年3月，3月4日，3月，\"))\n",
    "print(PATTERN_DATE_TIME.search(text).span(1))"
   ]
  },
  {
   "cell_type": "code",
   "execution_count": 5,
   "metadata": {},
   "outputs": [
    {
     "name": "stdout",
     "output_type": "stream",
     "text": [
      "[('（100%+）', '100%', '+', ''), ('（5%+）', '5%', '+', ''), ('（45%+）', '45%', '+', ''), ('（-）', '', '-', ''), ('（+++）', '', '+++', ''), ('（+）', '', '+', ''), ('（-）', '', '-', ''), ('（-）', '', '-', ''), ('(+++)', '', '+++', ''), ('（-）', '', '-', ''), ('（+++）', '', '+++', '')]\n",
      "(135, 142)\n"
     ]
    }
   ],
   "source": [
    "str_yin_yang = r\"([\\(（](\\d{1,3}%)?(阴性|阳性|阴|阳|\\+\\+\\+|\\+\\+|\\+|---|--|-)[\\)）]?)|(阴性|阳性)\"\n",
    "PATTERN_YIN_YANG = re.compile(str_yin_yang)\n",
    "PATTERN_YIN_YANG.findall(\"(-)\")\n",
    "print(PATTERN_YIN_YANG.findall(text))\n",
    "print(PATTERN_YIN_YANG.search(text).span(1))"
   ]
  },
  {
   "cell_type": "code",
   "execution_count": 6,
   "metadata": {},
   "outputs": [
    {
     "name": "stdout",
     "output_type": "stream",
     "text": [
      "[('0.3*0.3cm', '0.3', '', '0.3', 'cm', '', '', '')]\n",
      "(327, 336)\n"
     ]
    }
   ],
   "source": [
    "units = [\n",
    "    \"cm\", \"dm\", \"mm\", \"厘米\", \"分米\", \"毫米\"\n",
    "]\n",
    "units = r\"|\".join(units)\n",
    "decimal = r\"\\d+[\\.\\-\\+/×xX\\*]?[\\d]*[\\+]?\"\n",
    "chineses = r\"一二三四五六七八九十零百千壹贰叁肆伍陆柒捌玖拾佰仟〇\"\n",
    "chinese_decimal = fr\"[\\d{chineses}]+[\\.\\-\\+/]?[\\d{chineses}]*[\\+]?\"\n",
    "\n",
    "str_area = fr\"[^xX\\*×](({chinese_decimal})({units})?[xX\\*]({chinese_decimal})({units}))[^xX\\*/×]\"\n",
    "str_area_2 = fr\"(({chinese_decimal})(cm2|dm2|mm2|平方毫米|平方厘米|平方分米))\"\n",
    "PATTERN_AREA = re.compile(fr\"{str_area}|{str_area_2}\")\n",
    "print(PATTERN_AREA.findall(text))\n",
    "print(PATTERN_AREA.search(text).span(1))"
   ]
  },
  {
   "cell_type": "markdown",
   "metadata": {},
   "source": [
    "基于文档Tfidf的最大匹配词库整理?"
   ]
  },
  {
   "cell_type": "code",
   "execution_count": 55,
   "metadata": {},
   "outputs": [],
   "source": [
    "# 词库\n",
    "corpus_bodies = [\n",
    "    \"全身\", \"颜面部\", \"面部\"\n",
    "]\n",
    "# 词库\n",
    "corpus_diseases = [\n",
    "    \"咳嗽\", \"胸闷\", \"咳痰\", \"气促\", \"发热\", \"喘息\", \"疼痛\", \"呼吸困难\", \"流血\", \"乳腺浸润癌\", \n",
    "    \"伴癌旁纤维囊性乳腺病\", \"浸润性导管癌\"\n",
    "]\n",
    "# 正则\n",
    "corpus_date_range = [\n",
    "    \"5月\", \"3天\", \"50+年\", \"2年\", \"3天\", \"3+年\", \"10+天\", \"1月\", \"6小时\", \n",
    "    \"1+年\", \"1周\", \"30+年\", \"3+天\"\n",
    "]\n",
    "# 词库\n",
    "corpus_degree = [\n",
    "    \"加重\", \"反复\", \"增多\", \"再发\"\n",
    "]\n",
    "# 需要词库\n",
    "corpus_check = [\n",
    "    \"ER\", \"ER-β\", \"PR\", \"Her-2\", \"E-Cad\", \"P53\", \"TOPIIa\", \"EGFR\", \"VEGF\", \"SMA\", \"Calponin\", \"CK5/6\", \n",
    "    \"CD10\", \"P63\", \"34βE12\"\n",
    "]\n",
    "# 需要词库\n",
    "corpus_negative = [\n",
    "    \"无\", \"未\", \"否认\"\n",
    "]\n",
    "corpus_position = [\n",
    "    \"中山大学附属肿瘤医院\"\n",
    "]"
   ]
  },
  {
   "cell_type": "code",
   "execution_count": 25,
   "metadata": {},
   "outputs": [],
   "source": [
    "corpus_check = set(corpus_check)\n",
    "\n",
    "def max_tokenize(text, lens=(8, 6, 5, 4, 3, 2)):\n",
    "    start_idx = 0\n",
    "    while start_idx < len(text):\n",
    "        for l in lens:\n",
    "            end_idx = start_idx + l\n",
    "            word = text[start_idx: end_idx]\n",
    "            if word not in corpus_check:\n",
    "                continue\n",
    "            yield word, start_idx, end_idx\n",
    "            start_idx = end_idx\n",
    "            break\n",
    "        else:\n",
    "            start_idx += 1"
   ]
  },
  {
   "cell_type": "code",
   "execution_count": 46,
   "metadata": {
    "scrolled": true
   },
   "outputs": [],
   "source": [
    "for word in [\"颜面部\", \"再发\", \"为求\"] + [\"视物\", \"黑朦\", \"大小便失禁\", \"厌油\"] + corpus_position:\n",
    "    jieba.add_word(word, 100)\n",
    "\n",
    "for seg in [(\"稳\", \"及\")]:\n",
    "    jieba.suggest_freq(seg, True)\n",
    "\n",
    "class ZhuSuTokenizer(object):\n",
    "    placeholder = \"$\"\n",
    "\n",
    "    def __init__(self, corpus_body, corpus_disease, corpus_degree, pattern_date_range, pattern_date_time,\n",
    "                 pattern_yinyang, pattern_area):\n",
    "        self.corpus_body = set(corpus_body)\n",
    "        self.corpus_disease = set(corpus_disease)\n",
    "        self.corpus_degree = set(corpus_degree)\n",
    "        self.info = {}\n",
    "        self.pattern_date_range = pattern_date_range\n",
    "        self.pattern_date_time = pattern_date_time\n",
    "        self.pattern_yinyang = pattern_yinyang\n",
    "        self.pattern_area = pattern_area\n",
    "        self._init_tokenizer()\n",
    "\n",
    "    def _init_tokenizer(self):\n",
    "        for word in self.corpus_disease:\n",
    "            jieba.add_word(word, 100)\n",
    "        for word in self.corpus_degree:\n",
    "            jieba.add_word(word, 100)\n",
    "\n",
    "    def _find_ranges(self, pattern, text):\n",
    "        pos = 0\n",
    "        while 1:\n",
    "            search_result = pattern.search(text, pos=pos)\n",
    "            if not search_result:\n",
    "                break\n",
    "            start_idx, end_idx = search_result.span(1)\n",
    "            date_range = search_result.group(1)\n",
    "            yield date_range, start_idx, end_idx\n",
    "            pos = end_idx\n",
    "\n",
    "    def _find_date_ranges(self, text):\n",
    "        return self._find_ranges(self.pattern_date_range, text)\n",
    "\n",
    "    def _find_date_time(self, text):\n",
    "        return self._find_ranges(self.pattern_date_time, text)\n",
    "\n",
    "    def _find_yinyang(self, text):\n",
    "        return self._find_ranges(self.pattern_yinyang, text)\n",
    "    \n",
    "    def _find_area(self, text):\n",
    "        return self._find_ranges(self.pattern_area, text)\n",
    "\n",
    "    def _replace_with_placeholder(self, text, replace_tokens):\n",
    "        text_short = 0\n",
    "        for content, start_idx, end_idx in replace_tokens:\n",
    "            text = text[:start_idx - text_short] + self.placeholder + text[end_idx - text_short:]\n",
    "            text_short += (end_idx - start_idx - 1)\n",
    "        return text\n",
    "\n",
    "    def tokenize(self, text):\n",
    "        self.info = {}\n",
    "        replace_tokens = []\n",
    "        funcs = [\n",
    "            (self._find_date_ranges, \"DATE_RANGE\"), \n",
    "            (max_tokenize, \"CHECK\"), \n",
    "            (self._find_date_time, \"DATE_TIME\"), \n",
    "            (self._find_yinyang, \"YIN_YANG\"), \n",
    "            (self._find_area, \"AREA\"), \n",
    "        ]\n",
    "        for func, cat in funcs:\n",
    "            info = list(func(text))\n",
    "            self.info[cat] = info\n",
    "            replace_tokens.extend(info)\n",
    "        replace_tokens = list(sorted(replace_tokens, key=lambda x: x[1]))\n",
    "        text = self._replace_with_placeholder(text, replace_tokens)\n",
    "        special_words = [i[0] for i in replace_tokens]\n",
    "        words_gen = jieba.cut(text)\n",
    "        words = []\n",
    "        idx = 0\n",
    "        for word in words_gen:\n",
    "            if word == \"$\":\n",
    "                words.append(special_words[idx])\n",
    "                idx += 1\n",
    "            else:\n",
    "                words.append(word)\n",
    "        self.special_words = special_words\n",
    "        return words"
   ]
  },
  {
   "cell_type": "code",
   "execution_count": 47,
   "metadata": {
    "scrolled": false
   },
   "outputs": [
    {
     "name": "stdout",
     "output_type": "stream",
     "text": [
      "患者4+年前自检发现左乳包块于本院就诊，考虑乳腺肿物，于2013-10-20行肿物切除术，术后病理提示：乳腺浸润癌。后为进一步治疗，于2013-11-04就诊于中山大学附属肿瘤医院门诊，行病理会诊：（左侧乳腺）浸润性导管癌（II级：伴癌旁纤维囊性乳腺病），免疫组化：ER（100%+），ER-β（5%+）,PR（45%+），Her-2（-），E-Cad（+++），P53（+），TOPIIa（-），EGFR（-），VEGF(+++),SMA、Calponin、CK5/6、CD10及P63均（-），34βE12（+++）。后于2013-11-07于中山大学附属肿瘤医院住院行乳腺癌根治术及化疗治疗，化疗结束后患者定期体检。1+月前体检时发现右乳有一大小约0.3*0.3cm大小结节，无乳房疼痛，表面皮肤无红肿、破溃，无乳头溢液、溢血，上肢无肿胀、麻木，无低热盗汗、恶心、呕吐、头晕、头痛、咳嗽、咳痰、咳血、发热、腹痛、腹泻，就诊于我院门诊，在门诊拟诊断为“右乳包块”收入院。患者自患病以来，精神状态良好，体力情况良好，食欲食量良好，睡眠情况良好，体重无明显变化，大便正常，小便正常。\n",
      "================================================================================\n",
      "tokens: ['患者', '4+年前', '自检', '发现', '左乳', '包块', '于', '本院', '就诊', '，', '考虑', '乳腺', '肿物', '，', '于', '2013-10-20', '行', '肿物', '切除术', '，', '术后', '病理', '提示', '：', '乳腺浸润癌', '。', '后', '为', '进一步', '治疗', '，', '于', '2013-11-04', '就诊', '于', '中山大学附属肿瘤医院', '门诊', '，', '行', '病理', '会诊', '：', '（', '左侧', '乳腺', '）', '浸润性导管癌', '（', 'II', '级', '：', '伴癌旁纤维囊性乳腺病', '）', '，', '免疫组化', '：', 'ER', '（100%+）', '，', 'ER-β', '（5%+）', ',', 'PR', '（45%+）', '，', 'Her-2', '（-）', '，', 'E-Cad', '（+++）', '，', 'P53', '（+）', '，', 'TOPIIa', '（-）', '，', 'EGFR', '（-）', '，', 'VEGF', '(+++)', ',', 'SMA', '、', 'Calponin', '、', 'CK5/6', '、', 'CD10', '及', 'P63', '均', '（-）', '，', '34βE12', '（+++）', '。', '后于', '2013-11-07', '于', '中山大学附属肿瘤医院', '住院', '行', '乳腺癌', '根治术', '及', '化疗', '治疗', '，', '化疗', '结束', '后', '患者', '定期', '体检', '。', '1+月前', '体检', '时', '发现', '右乳', '有', '一', '大小', '约', '0.3*0.3cm', '大小', '结节', '，', '无', '乳房', '疼痛', '，', '表面', '皮肤', '无', '红肿', '、', '破溃', '，', '无', '乳头', '溢液', '、', '溢血', '，', '上肢', '无', '肿胀', '、', '麻木', '，', '无', '低热', '盗汗', '、', '恶心', '、', '呕吐', '、', '头晕', '、', '头痛', '、', '咳嗽', '、', '咳痰', '、', '咳血', '、', '发热', '、', '腹痛', '、', '腹泻', '，', '就诊', '于', '我院', '门诊', '，', '在', '门诊', '拟', '诊断', '为', '“', '右乳', '包块', '”', '收入', '院', '。', '患者', '自', '患病', '以来', '，', '精神状态', '良好', '，', '体力', '情况', '良好', '，', '食欲', '食量', '良好', '，', '睡眠', '情况', '良好', '，', '体重', '无', '明显', '变化', '，', '大便', '正常', '，', '小便', '正常', '。']\n",
      "True\n"
     ]
    }
   ],
   "source": [
    "zhusu_tokenizer = ZhuSuTokenizer(\n",
    "    corpus_bodies, \n",
    "    corpus_diseases, \n",
    "    corpus_degree, \n",
    "    PATTERN_DATE_RANGE, \n",
    "    PATTERN_DATE_TIME, \n",
    "    PATTERN_YIN_YANG, \n",
    "    PATTERN_AREA\n",
    ")\n",
    "# text = \"手术疼痛8年后，面部疼痛4+小时\"\n",
    "print(text)\n",
    "print(\"=\" * 80)\n",
    "words = list(zhusu_tokenizer.tokenize(text))\n",
    "print(\"tokens:\", words)\n",
    "# print(\"date ranges:\", zhusu_tokenizer.date_ranges)\n",
    "# print(\"extract infos:\", list(zhusu_tokenizer.extract(text)))\n",
    "i = 100000\n",
    "print(\"\".join(words)[:i] == text[:i])"
   ]
  },
  {
   "cell_type": "code",
   "execution_count": 11,
   "metadata": {},
   "outputs": [
    {
     "name": "stdout",
     "output_type": "stream",
     "text": [
      "1.52 ms ± 21.6 µs per loop (mean ± std. dev. of 7 runs, 1000 loops each)\n"
     ]
    }
   ],
   "source": [
    "%timeit words = list(zhusu_tokenizer.tokenize(text))"
   ]
  },
  {
   "cell_type": "code",
   "execution_count": 41,
   "metadata": {},
   "outputs": [],
   "source": [
    "# def extract_xbs_info(words):\n",
    "#     for word in words:\n",
    "#         print(word)\n",
    "#         input(\"\")\n",
    "# extract_xbs_info(words)"
   ]
  },
  {
   "cell_type": "markdown",
   "metadata": {},
   "source": [
    "患者 4+年前 自检 发现 左乳 包块 于 本院 就诊 ，\n",
    "名词 周期   动词 动词 名词 名词 于 地名 动词\n",
    "\n",
    "患者 3+小时前 服错药酒（具体成分不详）约50ml， 立即予“醋、豆实”解毒， 40+分钟后感颜面部麻木，继之蔓延至全身，感呼吸困难"
   ]
  },
  {
   "cell_type": "markdown",
   "metadata": {},
   "source": [
    "- 什么时间开始，什么症状，什么原因，有到哪里看过病，一些附加症状\n",
    "- 有哪些症状 时间段\n",
    "- 无哪些症状 时间段\n",
    "- 疑似疾病：123\n",
    "- 入院后情况：{}"
   ]
  },
  {
   "cell_type": "code",
   "execution_count": 13,
   "metadata": {
    "scrolled": true
   },
   "outputs": [
    {
     "data": {
      "text/plain": [
       "[('ER', 133, 135),\n",
       " ('ER-β', 143, 147),\n",
       " ('PR', 153, 155),\n",
       " ('Her-2', 162, 167),\n",
       " ('E-Cad', 171, 176),\n",
       " ('P53', 182, 185),\n",
       " ('TOPIIa', 189, 195),\n",
       " ('EGFR', 199, 203),\n",
       " ('VEGF', 207, 211),\n",
       " ('SMA', 217, 220),\n",
       " ('Calponin', 221, 229),\n",
       " ('CK5/6', 230, 235),\n",
       " ('CD10', 236, 240),\n",
       " ('P63', 241, 244),\n",
       " ('34βE12', 249, 255)]"
      ]
     },
     "execution_count": 13,
     "metadata": {},
     "output_type": "execute_result"
    }
   ],
   "source": [
    "list(max_tokenize(text))"
   ]
  },
  {
   "cell_type": "code",
   "execution_count": 14,
   "metadata": {},
   "outputs": [],
   "source": [
    "texts = [\n",
    "    \"反复咳嗽、咳痰3+年，伴胸闷、气促10+天\", \n",
    "    \"反复咳嗽50+年，伴胸闷2年，加重3天。\",\n",
    "    \"咳嗽5月，气促伴咳痰增多3天。\"\n",
    "]"
   ]
  },
  {
   "cell_type": "code",
   "execution_count": 15,
   "metadata": {
    "scrolled": true
   },
   "outputs": [
    {
     "name": "stdout",
     "output_type": "stream",
     "text": [
      "['患者', '4', '+', '年前', '自检', '发现', '左乳', '包块', '于', '本院', '就诊', '，', '考虑', '乳腺', '肿物', '，', '于', '2013', '-', '10', '-', '20', '行', '肿物', '切除术', '，', '术后', '病理', '提示', '：', '乳腺浸润癌', '。', '后', '为', '进一步', '治疗', '，', '于', '2013', '-', '11', '-', '04', '就诊', '于', '中山大学', '附属', '肿瘤医院', '门诊', '，', '行', '病理', '会诊', '：', '（', '左侧', '乳腺', '）', '浸润性导管癌', '（', 'II', '级', '：', '伴癌旁纤维囊性乳腺病', '）', '，', '免疫组化', '：', 'ER', '（', '100%', '+', '）', '，', 'ER', '-', 'β', '（', '5%', '+', '）', ',', 'PR', '（', '45%', '+', '）', '，', 'Her', '-', '2', '（', '-', '）', '，', 'E', '-', 'Cad', '（', '+++', '）', '，', 'P53', '（', '+', '）', '，', 'TOPIIa', '（', '-', '）', '，', 'EGFR', '（', '-', '）', '，', 'VEGF', '(', '+++', ')', ',', 'SMA', '、', 'Calponin', '、', 'CK5', '/', '6', '、', 'CD10', '及', 'P63', '均', '（', '-', '）', '，', '34', 'β', 'E12', '（', '+++', '）', '。', '后于', '2013', '-', '11', '-', '07', '于', '中山大学', '附属', '肿瘤医院', '住院', '行', '乳腺癌', '根治术', '及', '化疗', '治疗', '，', '化疗', '结束', '后', '患者', '定期', '体检', '。', '1', '+', '月', '前', '体检', '时', '发现', '右乳', '有', '一', '大小', '约', '0.3', '*', '0.3', 'cm', '大小', '结节', '，', '无', '乳房', '疼痛', '，', '表面', '皮肤', '无', '红肿', '、', '破溃', '，', '无', '乳头', '溢液', '、', '溢血', '，', '上肢', '无', '肿胀', '、', '麻木', '，', '无', '低热', '盗汗', '、', '恶心', '、', '呕吐', '、', '头晕', '、', '头痛', '、', '咳嗽', '、', '咳痰', '、', '咳血', '、', '发热', '、', '腹痛', '、', '腹泻', '，', '就诊', '于', '我院', '门诊', '，', '在', '门诊', '拟', '诊断', '为', '“', '右乳', '包块', '”', '收入', '院', '。', '患者', '自', '患病', '以来', '，', '精神状态', '良好', '，', '体力', '情况', '良好', '，', '食欲', '食量', '良好', '，', '睡眠', '情况', '良好', '，', '体重', '无', '明显', '变化', '，', '大便', '正常', '，', '小便', '正常', '。']\n"
     ]
    }
   ],
   "source": [
    "words = jieba.lcut(text)\n",
    "print(words)"
   ]
  },
  {
   "cell_type": "code",
   "execution_count": 44,
   "metadata": {},
   "outputs": [
    {
     "name": "stdout",
     "output_type": "stream",
     "text": [
      "['患者', '4+年前', '自检', '发现', '左乳', '包块', '于', '本院', '就诊', '，', '考虑', '乳腺', '肿物', '，', '于', '2013-10-20', '行', '肿物', '切除术', '，', '术后', '病理', '提示', '：', '乳腺浸润癌', '。', '后', '为', '进一步', '治疗', '，', '于', '2013-11-04', '就诊', '于', '中山大学附属肿瘤医院', '门诊', '，', '行', '病理', '会诊', '：', '（', '左侧', '乳腺', '）', '浸润性导管癌', '（', 'II', '级', '：', '伴癌旁纤维囊性乳腺病', '）', '，', '免疫组化', '：', 'ER', '（100%+）', '，', 'ER-β', '（5%+）', ',', 'PR', '（45%+）', '，', 'Her-2', '（-）', '，', 'E-Cad', '（+++）', '，', 'P53', '（+）', '，', 'TOPIIa', '（-）', '，', 'EGFR', '（-）', '，', 'VEGF', '(+++)', ',', 'SMA', '、', 'Calponin', '、', 'CK5/6', '、', 'CD10', '及', 'P63', '均', '（-）', '，', '34βE12', '（+++）', '。', '后于', '2013-11-07', '于', '中山大学附属肿瘤医院', '住院', '行', '乳腺癌', '根治术', '及', '化疗', '治疗', '，', '化疗', '结束', '后', '患者', '定期', '体检', '。', '1+月前', '体检', '时', '发现', '右乳', '有', '一', '大小', '约', '0.3*0.3cm', '大小', '结节', '，', '无', '乳房', '疼痛', '，', '表面', '皮肤', '无', '红肿', '、', '破溃', '，', '无', '乳头', '溢液', '、', '溢血', '，', '上肢', '无', '肿胀', '、', '麻木', '，', '无', '低热', '盗汗', '、', '恶心', '、', '呕吐', '、', '头晕', '、', '头痛', '、', '咳嗽', '、', '咳痰', '、', '咳血', '、', '发热', '、', '腹痛', '、', '腹泻', '，', '就诊', '于', '我院', '门诊', '，', '在', '门诊', '拟', '诊断', '为', '“', '右乳', '包块', '”', '收入', '院', '。', '患者', '自', '患病', '以来', '，', '精神状态', '良好', '，', '体力', '情况', '良好', '，', '食欲', '食量', '良好', '，', '睡眠', '情况', '良好', '，', '体重', '无', '明显', '变化', '，', '大便', '正常', '，', '小便', '正常', '。']\n",
      "================================================================================\n"
     ]
    }
   ],
   "source": [
    "# %timeit zhusu_tokenizer.tokenize(text)\n",
    "print(zhusu_tokenizer.tokenize(text.split(\":\", 1)[-1]))\n",
    "print(\"=\" * 80)\n",
    "# print(zhusu_tokenizer.tokenize(\"患者 3+小时前 服错药酒（具体成分不详）约50ml， 立即予“醋、豆实”解毒， 40+分钟后感颜面部麻木，继之蔓延至全身，感呼吸困难\"))\n",
    "# print(zhusu_tokenizer.tokenize(\"患者3天前无明显诱因突发打喷嚏，偶有咳嗽、咳痰，痰不易咳出，无发热，无胸闷、气促等不适，自诉于当地诊所输液（具体药物名称及用法不详）治疗后症状无明显缓解，10+小时前发现眼睑、颜面部水肿，无胸闷、气促，自服螺内酯+呋塞米利尿治疗未见明显好转，3+小时前抽搐、昏迷，持续约4-5分钟，家属予糖水口服后清醒，醒后感恶心，无呕吐，无视物旋转等不适，立即送至我院，门诊行头颅ct示：1.左侧额叶少许斑片状低密度影，考虑脑梗塞；2.右侧上额窦囊肿；血常规：白细胞 12.69*109/L 中性粒细胞百分比 90.90% 淋巴细胞百分比 3.20%；肾功能：尿酸 10.7mmol/L  肌酐 112umol/L 血清尿酸 427umol/L；尿常规未见明显异常。以“浮肿原因”收入我科，患者病来精神、饮食、睡眠稍差，小便2次，总量约50ml，大便正常，体重未见明显增减。\"))"
   ]
  },
  {
   "cell_type": "code",
   "execution_count": 65,
   "metadata": {
    "scrolled": false
   },
   "outputs": [
    {
     "name": "stdout",
     "output_type": "stream",
     "text": [
      "['患者', '4+年前', '自检', '发现', '左乳', '包块', '于', '本院', '就诊', '，', '考虑', '乳腺', '肿物', '，', '于', '2013-10-20', '行', '肿物', '切除术', '，', '术后', '病理', '提示', '：', '乳腺浸润癌', '。', '后', '为', '进一步', '治疗', '，', '于', '2013-11-04', '就诊', '于', '中山大学附属肿瘤医院', '门诊', '，', '行', '病理', '会诊', '：', '（', '左侧', '乳腺', '）', '浸润性导管癌', '（', 'II', '级', '：', '伴癌旁纤维囊性乳腺病', '）', '，', '免疫组化', '：', 'ER', '（100%+）', '，', 'ER-β', '（5%+）', ',', 'PR', '（45%+）', '，', 'Her-2', '（-）', '，', 'E-Cad', '（+++）', '，', 'P53', '（+）', '，', 'TOPIIa', '（-）', '，', 'EGFR', '（-）', '，', 'VEGF', '(+++)', ',', 'SMA', '、', 'Calponin', '、', 'CK5/6', '、', 'CD10', '及', 'P63', '均', '（-）', '，', '34βE12', '（+++）', '。', '后于', '2013-11-07', '于', '中山大学附属肿瘤医院', '住院', '行', '乳腺癌', '根治术', '及', '化疗', '治疗', '，', '化疗', '结束', '后', '患者', '定期', '体检', '。', '1+月前', '体检', '时', '发现', '右乳', '有', '一', '大小', '约', '0.3*0.3cm', '大小', '结节', '，', '无', '乳房', '疼痛', '，', '表面', '皮肤', '无', '红肿', '、', '破溃', '，', '无', '乳头', '溢液', '、', '溢血', '，', '上肢', '无', '肿胀', '、', '麻木', '，', '无', '低热', '盗汗', '、', '恶心', '、', '呕吐', '、', '头晕', '、', '头痛', '、', '咳嗽', '、', '咳痰', '、', '咳血', '、', '发热', '、', '腹痛', '、', '腹泻', '，', '就诊', '于', '我院', '门诊', '，', '在', '门诊', '拟', '诊断', '为', '“', '右乳', '包块', '”', '收入', '院', '。', '患者', '自', '患病', '以来', '，', '精神状态', '良好', '，', '体力', '情况', '良好', '，', '食欲', '食量', '良好', '，', '睡眠', '情况', '良好', '，', '体重', '无', '明显', '变化', '，', '大便', '正常', '，', '小便', '正常', '。']\n",
      "{'4+年前': 'DATE_RANGE', '1+月前': 'DATE_RANGE', 'ER': 'CHECK', 'ER-β': 'CHECK', 'PR': 'CHECK', 'Her-2': 'CHECK', 'E-Cad': 'CHECK', 'P53': 'CHECK', 'TOPIIa': 'CHECK', 'EGFR': 'CHECK', 'VEGF': 'CHECK', 'SMA': 'CHECK', 'Calponin': 'CHECK', 'CK5/6': 'CHECK', 'CD10': 'CHECK', 'P63': 'CHECK', '34βE12': 'CHECK', '2013-10-20': 'DATE_TIME', '2013-11-04': 'DATE_TIME', '2013-11-07': 'DATE_TIME', '（100%+）': 'YIN_YANG', '（5%+）': 'YIN_YANG', '（45%+）': 'YIN_YANG', '（-）': 'YIN_YANG', '（+++）': 'YIN_YANG', '（+）': 'YIN_YANG', '(+++)': 'YIN_YANG', '0.3*0.3cm': 'AREA'}\n",
      "================================================================================\n",
      "患者 []\n",
      "4+年前 ['自检', '发现', '左乳', '包块', '于', '本院', '就诊', '，', '考虑', '乳腺', '肿物', '，', '于']\n",
      "2013-10-20 ['行', '肿物', '切除术', '，', '术后', '病理', '提示', '：', '乳腺浸润癌', '。', '后', '为', '进一步', '治疗', '，', '于']\n",
      "2013-11-04 ['就诊', '于', '中山大学附属肿瘤医院', '门诊', '，', '行', '病理', '会诊', '：', '（', '左侧', '乳腺', '）', '浸润性导管癌', '（', 'II', '级', '：', '伴癌旁纤维囊性乳腺病', '）', '，', '免疫组化', '：', 'ER', '（100%+）', '，', 'ER-β', '（5%+）', ',', 'PR', '（45%+）', '，', 'Her-2', '（-）', '，', 'E-Cad', '（+++）', '，', 'P53', '（+）', '，', 'TOPIIa', '（-）', '，', 'EGFR', '（-）', '，', 'VEGF', '(+++)', ',', 'SMA', '、', 'Calponin', '、', 'CK5/6', '、', 'CD10', '及', 'P63', '均', '（-）', '，', '34βE12', '（+++）', '。', '后于']\n",
      "2013-11-07 ['于', '中山大学附属肿瘤医院', '住院', '行', '乳腺癌', '根治术', '及', '化疗', '治疗', '，', '化疗', '结束', '后', '患者', '定期', '体检', '。']\n",
      "1+月前 ['体检', '时', '发现', '右乳', '有', '一', '大小', '约', '0.3*0.3cm', '大小', '结节', '，', '无', '乳房', '疼痛', '，', '表面', '皮肤', '无', '红肿', '、', '破溃', '，', '无', '乳头', '溢液', '、', '溢血', '，', '上肢', '无', '肿胀', '、', '麻木', '，', '无', '低热', '盗汗', '、', '恶心', '、', '呕吐', '、', '头晕', '、', '头痛', '、', '咳嗽', '、', '咳痰', '、', '咳血', '、', '发热', '、', '腹痛', '、', '腹泻', '，', '就诊', '于', '我院', '门诊', '，', '在', '门诊', '拟', '诊断', '为', '“', '右乳', '包块', '”', '收入', '院', '。', '患者', '自', '患病', '以来', '，', '精神状态', '良好', '，', '体力', '情况', '良好', '，', '食欲', '食量', '良好', '，', '睡眠', '情况', '良好', '，', '体重', '无', '明显', '变化', '，', '大便', '正常', '，', '小便', '正常', '。']\n"
     ]
    }
   ],
   "source": [
    "words = zhusu_tokenizer.tokenize(text.split(\":\", 1)[-1])\n",
    "print(words)\n",
    "entity_to_category = {}\n",
    "for cat, values in zhusu_tokenizer.info.items():\n",
    "    for value in values:\n",
    "        entity_to_category[value[0]] = cat\n",
    "print(entity_to_category)\n",
    "def get_word_category(word):\n",
    "    if word in entity_to_category:\n",
    "        return entity_to_category[word]\n",
    "    if word in corpus_diseases:\n",
    "        return \"DISEASE\"\n",
    "    if word in corpus_negative:\n",
    "        return \"NAGATIVE\"\n",
    "    if word in corpus_bodies:\n",
    "        return \"BODY\"\n",
    "    if word in corpus_degree:\n",
    "        return \"DEGREE\"\n",
    "    if word in corpus_position:\n",
    "        return \"POS\"\n",
    "    return \"[UKN]\"\n",
    "\n",
    "def is_date(cat):\n",
    "    return cat in (\"DATE_RANGE\", \"DATE_TIME\")\n",
    "\n",
    "print(\"=\" * 80)\n",
    "def extract_xbs_info(words):\n",
    "    tmp_words = []\n",
    "    for word in words:\n",
    "        cat = get_word_category(word)\n",
    "        if not is_date(cat):\n",
    "            tmp_words.append(word)\n",
    "        else:\n",
    "            yield tmp_words\n",
    "            tmp_words = []\n",
    "            tmp_words.append(word)\n",
    "    if tmp_words:\n",
    "        yield tmp_words\n",
    "for info in extract_xbs_info(words):\n",
    "    print(info[0], info[1:])"
   ]
  },
  {
   "cell_type": "code",
   "execution_count": 51,
   "metadata": {},
   "outputs": [
    {
     "data": {
      "text/plain": [
       "[]"
      ]
     },
     "execution_count": 51,
     "metadata": {},
     "output_type": "execute_result"
    }
   ],
   "source": [
    "list(extract_diseases_pair(text))"
   ]
  },
  {
   "cell_type": "code",
   "execution_count": null,
   "metadata": {},
   "outputs": [],
   "source": [
    "[\n",
    "    {\"date\": \"4+年前\", \"symptom\": \"左乳包块\", \"location\": \"本院\", \"doubt\": \"乳腺肿物\"}, \n",
    "    {\"date\": \"2013-10-20\", \"surgery\": [\"肿物切除术\"], \"disease\": \"乳腺浸润癌\"}, \n",
    "    {\"date\": \"2013-11-04\", \"location\": \"中山大学附属肿瘤医院\", \"department\": \"门诊\", \"behavior\": {\n",
    "            \"name\": \"病理会诊\", \n",
    "            \"disease\": \"浸润性导管癌\", \n",
    "            \"body\": \"左侧乳腺\", \n",
    "            \"level\": \"II级：伴癌旁纤维囊性乳腺癌\", \n",
    "            \"other\": {\"name\": \"免疫组化\", \"check\": [\n",
    "                {\"name\": \"ER\", \"value\": \"（100%+）\"}, \n",
    "                {\"name\": \"ER-β\": \"value\": \"（5%+）\"}, \n",
    "                {\"name\": \"PR\": \"value\": \"（45%+）\"}, \n",
    "                {\"name\": \"Her-2\", \"value\": \"（-）\"}, \n",
    "                {\"name\": \"E-Cad\", \"value\": \"（+++）\"}, \n",
    "                {\"name\": \"P53\", \"value\": \"（+）\"}, \n",
    "                {\"name\": \"TOPIIa\", \"value\": \"（-）\"}, \n",
    "                {\"name\": \"EGFR\", \"value\": \"（-）\"}, \n",
    "                {\"name\": \"VEGF\", \"value\": \"(+++)\"}, \n",
    "                {\"name\": \"SMA\", \"value\": \"（-）\"}, \n",
    "                {\"name\": \"Calponin\", \"value\": \"（-）\"}, \n",
    "                {\"name\": \"CK5/6\", \"value\": \"（-）\"}, \n",
    "                {\"name\": \"CD10\", \"value\": \"（-）\"}, \n",
    "                {\"name\": \"P63\", \"value\": \"（-）\"}, \n",
    "                {\"name\": \"34βE12\", \"value\": \"（+++）\"}, \n",
    "            ]}\n",
    "        }\n",
    "    },\n",
    "    {\"date\": \"2013-11-07\", \"location\": \"中山大学附属肿瘤医院\", \"department\": \"住院\", \"surgery\": [\"乳腺癌根治术\", \"化疗\"], \n",
    "     \"note\": \"患者定期检查\"}, \n",
    "    {\"date\": \"1+月前\", \"body\": \"右乳\", \"symptom\": \"结节\", \"area\": \"0.3*0.3cm\", \"negative\": [\n",
    "        {\"body\": \"\", \"value\": [\"乳房疼痛\"]}, \n",
    "        {\"body\": \"表面皮肤\", \"value\": [\"红肿\", \"破溃\"]}, \n",
    "        {\"body\": \"\", \"value\": [\"乳头溢液\", \"溢血\"]}, \n",
    "        {\"body\": \"上肢\", \"value\": [\"肿胀\", \"麻木\"]}, \n",
    "        {\"body\": \"\", \"value\": [\n",
    "            \"低热\", \"盗汗\", \"恶心\", \"呕吐\", \"头晕\", \"头痛\", \"咳嗽\", \"咳痰\", \"咳血\", \"发热\", \"腹痛\", \"腹泻\"]}\n",
    "    ],\n",
    "     \"location\": \"我院\", \"department\": \"门诊\", \"disease\": \"右乳包块\"\n",
    "    },\n",
    "    {\"date\": \"患病以来\", items: [\n",
    "        {\"name\": \"精神状态\", \"value\": \"良好\"}, \n",
    "        {\"name\": \"体力\", \"value\": \"良好\"}, \n",
    "        {\"name\": \"食欲,食量\", \"value\": \"良好\"}, \n",
    "        {\"name\": \"睡眠\", \"value\": \"良好\"}, \n",
    "        {\"name\": \"体重\", \"value\": \"无变化\"}, \n",
    "        {\"name\": \"大便\", \"value\": \"正常\"}, \n",
    "        {\"name\": \"小便\", \"value\": \"正常\"}, \n",
    "    ]}\n",
    "]"
   ]
  },
  {
   "cell_type": "markdown",
   "metadata": {},
   "source": [
    "[(['咳嗽'], [], '5月'), (['气促', '咳痰'], ['增多'], '3天')]\n",
    "\n",
    "1. 气促和咳嗽增多3天\n",
    "2. 气促3天、咳嗽增多3天\n",
    "\n",
    "**词库如何扩展？**"
   ]
  },
  {
   "cell_type": "code",
   "execution_count": 19,
   "metadata": {
    "scrolled": false
   },
   "outputs": [],
   "source": [
    "# for word in zhusu_tokenizer.tokenize(text):\n",
    "#     print(word)\n",
    "#     input(\"\")"
   ]
  },
  {
   "cell_type": "code",
   "execution_count": 20,
   "metadata": {},
   "outputs": [
    {
     "data": {
      "text/plain": [
       "['视物', '黑朦', '大小便失禁', '厌油']"
      ]
     },
     "execution_count": 20,
     "metadata": {},
     "output_type": "execute_result"
    }
   ],
   "source": [
    "[\"视物\", \"黑朦\", \"大小便失禁\", \"厌油\", ]"
   ]
  },
  {
   "cell_type": "markdown",
   "metadata": {},
   "source": [
    "20天前，头昏，无明显诱因\n",
    "\n",
    "有时，昏昏沉沉，不 清爽  -- 这里逗号是连接了\n",
    "\n",
    "无：头痛\n",
    "\n",
    "乏力、行走不稳、踩棉花感\n",
    "\n",
    "记忆力、计算力 【有所】下降\n",
    "\n",
    "无：视物模糊、视物旋转\n",
    "\n",
    "无：黑朦、耳鸣\n",
    "\n",
    "无：恶心、呕吐\n",
    "\n",
    "无：偏瘫、失语\n",
    "\n",
    "无：抽搐、大小便失禁\n",
    "\n",
    "无：胸痛、心悸（有连接词“及”、“、”，不合并）\n",
    "\n",
    "无：口角歪斜（词汇合并）\n",
    "\n",
    "无：眩晕、流涎\n",
    "\n",
    "无：心悸、胸闷、气促\n",
    "\n",
    "无：发热、寒战\n",
    "\n",
    "无：厌油、纳差\n",
    "\n",
    "无：腹痛、腹涨、腹泻\n",
    "\n",
    "无：尿频、尿急、尿痛\n",
    "\n",
    "现 为求 进一步 治疗 就诊 于 我院：不用提\n",
    "\n",
    "诊断：门诊\n",
    "\n",
    "疾病：脑梗死\n",
    "\n",
    "2. 病来情况：\n",
    "    - 饮食：尚可\n",
    "    - 精神、睡眠：差\n",
    "    - 大小便：正常\n",
    "    - 体重：无、增减"
   ]
  },
  {
   "cell_type": "markdown",
   "metadata": {},
   "source": [
    "- 什么时间开始，什么症状，什么原因，一些附加症状\n",
    "- 有哪些症状 时间段\n",
    "- 无哪些症状 时间段\n",
    "- 疑似疾病：123\n",
    "- 入院后情况：{}"
   ]
  },
  {
   "cell_type": "markdown",
   "metadata": {},
   "source": [
    "year = r\"(19|20)\\d{2}\"\n",
    "month = r\"(1[012]|0?[1-9])\"\n",
    "(0?[1-9]|[12]\\d|30)\n",
    "PATTERN_DATE = re.compile(fr\"({year}[年\\-\\.\\/]{month}[月]?([\\-\\.\\/]{0,1}\\d{1,2}[日\\-\\.\\/])?)\")"
   ]
  },
  {
   "cell_type": "code",
   "execution_count": 21,
   "metadata": {},
   "outputs": [],
   "source": [
    "year = r\"((19|20)\\d{2})\"\n",
    "month = r\"(1[012]|0?[1-9])\"\n",
    "day = r\"([12]\\d|30|31|0?[1-9])\"\n",
    "PATTERN_DATE = re.compile(fr\"(({year}[年\\-\\.\\/]{month}[月]?([\\-\\./]?{day}[日]?)?)|({month}月{day}日))\")"
   ]
  },
  {
   "cell_type": "code",
   "execution_count": 22,
   "metadata": {},
   "outputs": [
    {
     "data": {
      "text/plain": [
       "[('2010.03.05', '2010.03.05', '2010', '20', '03', '.05', '05', '', '', ''),\n",
       " ('2017年11月22日', '2017年11月22日', '2017', '20', '11', '22日', '22', '', '', ''),\n",
       " ('2019年3月29日', '2019年3月29日', '2019', '20', '3', '29日', '29', '', '', ''),\n",
       " ('4月28日', '', '', '', '', '', '', '4月28日', '4', '28')]"
      ]
     },
     "execution_count": 22,
     "metadata": {},
     "output_type": "execute_result"
    }
   ],
   "source": [
    "PATTERN_DATE.findall(\"2010.03.05于我院就诊，2017年11月22日出院，于2019年3月29日复诊，4月28日再次复发。3.5。4月。\")"
   ]
  },
  {
   "cell_type": "code",
   "execution_count": 23,
   "metadata": {
    "scrolled": true
   },
   "outputs": [
    {
     "data": {
      "text/plain": [
       "['05', '07', '7', '5', '12', '11', '1', '3']"
      ]
     },
     "execution_count": 23,
     "metadata": {},
     "output_type": "execute_result"
    }
   ],
   "source": [
    "re.compile(r\"(1[012]|0?[1-9])\").findall(\"05,07,7,5,12,11,13\")"
   ]
  },
  {
   "cell_type": "code",
   "execution_count": null,
   "metadata": {},
   "outputs": [],
   "source": []
  }
 ],
 "metadata": {
  "kernelspec": {
   "display_name": "pytorch",
   "language": "python",
   "name": "pytorch"
  },
  "language_info": {
   "codemirror_mode": {
    "name": "ipython",
    "version": 3
   },
   "file_extension": ".py",
   "mimetype": "text/x-python",
   "name": "python",
   "nbconvert_exporter": "python",
   "pygments_lexer": "ipython3",
   "version": "3.7.3"
  }
 },
 "nbformat": 4,
 "nbformat_minor": 2
}
