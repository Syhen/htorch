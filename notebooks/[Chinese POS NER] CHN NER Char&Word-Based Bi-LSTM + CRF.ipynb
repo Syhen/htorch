{
 "cells": [
  {
   "cell_type": "code",
   "execution_count": 6,
   "metadata": {},
   "outputs": [],
   "source": [
    "import jieba\n",
    "import numpy as np\n",
    "import pandas as pd\n",
    "from sklearn.model_selection import train_test_split\n",
    "import torch\n",
    "import torch.nn as nn\n",
    "import torch.utils.data as tdata\n",
    "from tqdm import tqdm\n",
    "from keras.preprocessing.sequence import pad_sequences"
   ]
  },
  {
   "cell_type": "code",
   "execution_count": 1,
   "metadata": {},
   "outputs": [],
   "source": [
    "from htorch.contrib.data.reader import CHNPOSNERReader"
   ]
  },
  {
   "cell_type": "code",
   "execution_count": 3,
   "metadata": {},
   "outputs": [],
   "source": [
    "reader = CHNPOSNERReader()"
   ]
  },
  {
   "cell_type": "code",
   "execution_count": 7,
   "metadata": {},
   "outputs": [
    {
     "name": "stdout",
     "output_type": "stream",
     "text": [
      "train: (1043124, 4)\n",
      "test: (506203, 4)\n"
     ]
    },
    {
     "data": {
      "text/html": [
       "<div>\n",
       "<style scoped>\n",
       "    .dataframe tbody tr th:only-of-type {\n",
       "        vertical-align: middle;\n",
       "    }\n",
       "\n",
       "    .dataframe tbody tr th {\n",
       "        vertical-align: top;\n",
       "    }\n",
       "\n",
       "    .dataframe thead th {\n",
       "        text-align: right;\n",
       "    }\n",
       "</style>\n",
       "<table border=\"1\" class=\"dataframe\">\n",
       "  <thead>\n",
       "    <tr style=\"text-align: right;\">\n",
       "      <th></th>\n",
       "      <th>ner_tag</th>\n",
       "      <th>pos_tag</th>\n",
       "      <th>sentence_id</th>\n",
       "      <th>token</th>\n",
       "    </tr>\n",
       "  </thead>\n",
       "  <tbody>\n",
       "    <tr>\n",
       "      <th>0</th>\n",
       "      <td>N</td>\n",
       "      <td>n</td>\n",
       "      <td>0</td>\n",
       "      <td>女</td>\n",
       "    </tr>\n",
       "    <tr>\n",
       "      <th>1</th>\n",
       "      <td>N</td>\n",
       "      <td>n</td>\n",
       "      <td>0</td>\n",
       "      <td>性</td>\n",
       "    </tr>\n",
       "  </tbody>\n",
       "</table>\n",
       "</div>"
      ],
      "text/plain": [
       "  ner_tag pos_tag  sentence_id token\n",
       "0       N       n            0     女\n",
       "1       N       n            0     性"
      ]
     },
     "execution_count": 7,
     "metadata": {},
     "output_type": "execute_result"
    }
   ],
   "source": [
    "def read_data(category=\"train\"):\n",
    "    datas = []\n",
    "    sentence_id = 0\n",
    "    for i in range(1, 6):\n",
    "        path = \"../data/CHN-POS-NER/{category}_data{i}\".format(category=category, i=i)\n",
    "        data = reader.read(path)\n",
    "        data['sentence_id'] = data['sentence_id'] + sentence_id\n",
    "        sentence_id += data.shape[0]\n",
    "        datas.append(data)\n",
    "    return pd.concat(datas, axis=0)\n",
    "\n",
    "train_data = read_data(category=\"train\")\n",
    "test_data = read_data(category=\"test\")\n",
    "print(\"train:\", train_data.shape)\n",
    "print(\"test:\", test_data.shape)\n",
    "train_data.head(2)"
   ]
  },
  {
   "cell_type": "code",
   "execution_count": 10,
   "metadata": {},
   "outputs": [],
   "source": [
    "from htorch.train.trainer import ModelTrainer"
   ]
  },
  {
   "cell_type": "code",
   "execution_count": 11,
   "metadata": {},
   "outputs": [],
   "source": [
    "def replace_ner_tag(tag):\n",
    "    if \"S-\" in tag:\n",
    "        return \"B\" + tag[1:]\n",
    "    if \"E-\" in tag:\n",
    "        return \"I\" + tag[1:]\n",
    "    if tag == \"N\":\n",
    "        return \"O\"\n",
    "    return tag"
   ]
  },
  {
   "cell_type": "code",
   "execution_count": 13,
   "metadata": {},
   "outputs": [],
   "source": [
    "def convert_data_to_sentences(data):\n",
    "    tokens = []\n",
    "    labels = []\n",
    "    for _, sentence in tqdm(data.groupby(\"sentence_id\")):\n",
    "        tokens.append(sentence.token.values)\n",
    "        labels.append(sentence.ner_tag.values)\n",
    "    return tokens, labels"
   ]
  },
  {
   "cell_type": "code",
   "execution_count": 14,
   "metadata": {},
   "outputs": [],
   "source": [
    "train_data['ner_tag'] = train_data.ner_tag.apply(replace_ner_tag)\n",
    "test_data['ner_tag'] = test_data.ner_tag.apply(replace_ner_tag)"
   ]
  },
  {
   "cell_type": "code",
   "execution_count": 77,
   "metadata": {
    "scrolled": false
   },
   "outputs": [
    {
     "name": "stderr",
     "output_type": "stream",
     "text": [
      "100%|██████████| 31274/31274 [00:06<00:00, 4972.61it/s]\n",
      "100%|██████████| 15273/15273 [00:02<00:00, 5142.02it/s]\n"
     ]
    }
   ],
   "source": [
    "train_tokens, train_labels = convert_data_to_sentences(train_data)\n",
    "# train_tokens, val_tokens, train_labels, val_labels = train_test_split(train_tokens, \n",
    "#                                                                       train_labels, \n",
    "#                                                                       test_size=0.1, \n",
    "#                                                                       random_state=42)\n",
    "test_tokens, test_labels = convert_data_to_sentences(test_data)\n",
    "# print(\"train:\", len(train_tokens))\n",
    "# print(\"val:\", len(val_tokens))\n",
    "# print(\"test:\", len(test_tokens))"
   ]
  },
  {
   "cell_type": "code",
   "execution_count": 78,
   "metadata": {},
   "outputs": [
    {
     "name": "stdout",
     "output_type": "stream",
     "text": [
      "31274 4785\n",
      "15273 4783\n",
      "46547 4785\n",
      "4783\n"
     ]
    }
   ],
   "source": [
    "train_sen = [\"|\".join(i) for i in train_tokens]\n",
    "print(len(train_sen), len(set(train_sen)))\n",
    "test_sen = [\"|\".join(i) for i in test_tokens]\n",
    "print(len(test_sen), len(set(test_sen)))\n",
    "print(len(train_sen + test_sen), len(set(train_sen + test_sen)))\n",
    "print(len(set(train_sen) & set(test_sen)))"
   ]
  },
  {
   "cell_type": "code",
   "execution_count": 79,
   "metadata": {},
   "outputs": [
    {
     "name": "stdout",
     "output_type": "stream",
     "text": [
      "train: 3444\n",
      "val: 479\n",
      "test: 862\n"
     ]
    }
   ],
   "source": [
    "import hashlib\n",
    "\n",
    "df = pd.DataFrame({'token': train_sen, 'label': [\"|\".join(i) for i in train_labels]})\n",
    "df = df.drop_duplicates(['token', 'label']).sort_values('token')\n",
    "df['finger'] = df['token'].apply(lambda x: hashlib.md5(x.encode('utf8')).hexdigest())\n",
    "df[df.finger == \"482ef1c3afe469a9759763f8185f2dc3\"]\n",
    "df = df.drop_duplicates('finger')\n",
    "tokens = df.token.apply(lambda x: x.split('|')).values.tolist()\n",
    "labels = df.label.apply(lambda x: x.split('|')).values.tolist()\n",
    "train_tokens, val_tokens, train_labels, val_labels = train_test_split(tokens, labels, \n",
    "                                                                     test_size=0.1, random_state=42)\n",
    "train_tokens, test_tokens, train_labels, test_lables = train_test_split(train_tokens, train_labels, \n",
    "                                                                       test_size=0.2, random_state=42)\n",
    "print(\"train:\", len(train_tokens))\n",
    "print(\"val:\", len(val_tokens))\n",
    "print(\"test:\", len(test_tokens))"
   ]
  },
  {
   "cell_type": "code",
   "execution_count": 80,
   "metadata": {},
   "outputs": [],
   "source": [
    "# add words\n",
    "# ...\n",
    "train_words = [jieba.lcut(\"\".join(i)) for i in train_tokens]\n",
    "val_words = [jieba.lcut(\"\".join(i)) for i in val_tokens]\n",
    "test_words = [jieba.lcut(\"\".join(i)) for i in test_tokens]"
   ]
  },
  {
   "cell_type": "code",
   "execution_count": 81,
   "metadata": {},
   "outputs": [
    {
     "name": "stdout",
     "output_type": "stream",
     "text": [
      "train vocab size: 1660\n",
      "val vocab size: 1110\n",
      "only val vocab size: 40\n"
     ]
    }
   ],
   "source": [
    "from itertools import chain\n",
    "\n",
    "train_vocab = list(set(chain.from_iterable(train_tokens)))\n",
    "val_vocab = list(set(chain.from_iterable(val_tokens)))\n",
    "test_vocab = list(set(chain.from_iterable(test_tokens)))\n",
    "\n",
    "print(\"train vocab size:\", len(train_vocab))\n",
    "print(\"val vocab size:\", len(val_vocab))\n",
    "print(\"only val vocab size:\", len(set(val_vocab) - set(train_vocab)))"
   ]
  },
  {
   "cell_type": "code",
   "execution_count": 82,
   "metadata": {},
   "outputs": [
    {
     "name": "stdout",
     "output_type": "stream",
     "text": [
      "train vocab size: 4958\n",
      "val vocab size: 1976\n",
      "only val vocab size: 303\n"
     ]
    }
   ],
   "source": [
    "train_vocab_words = list(set(chain.from_iterable(train_words)))\n",
    "val_vocab_words = list(set(chain.from_iterable(val_words)))\n",
    "test_vocab_words = list(set(chain.from_iterable(test_words)))\n",
    "print(\"train vocab size:\", len(train_vocab_words))\n",
    "print(\"val vocab size:\", len(val_vocab_words))\n",
    "print(\"only val vocab size:\", len(set(val_vocab_words) - set(train_vocab_words)))"
   ]
  },
  {
   "cell_type": "code",
   "execution_count": 83,
   "metadata": {},
   "outputs": [],
   "source": [
    "token2id = {token: i for i, token in enumerate(train_vocab, 1)}\n",
    "word_token2id = {token: i for i, token in enumerate(train_vocab_words, 1)}"
   ]
  },
  {
   "cell_type": "code",
   "execution_count": 84,
   "metadata": {},
   "outputs": [
    {
     "name": "stdout",
     "output_type": "stream",
     "text": [
      "{'I-DISEASE', 'I-TREATMENT', 'B-CHECK', 'I-CHECK', 'B-SIGNS', 'B-DISEASE', 'I-BODY', 'B-TREATMENT', 'I-SIGNS', 'O', 'B-BODY'}\n"
     ]
    }
   ],
   "source": [
    "labels = set(chain.from_iterable(train_labels))\n",
    "print(labels)\n",
    "# labels = ['B-LOC', 'I-LOC', 'B-ORG', 'I-ORG', 'B-PER', 'I-PER', 'O']\n",
    "# labels"
   ]
  },
  {
   "cell_type": "code",
   "execution_count": 85,
   "metadata": {},
   "outputs": [
    {
     "data": {
      "text/plain": [
       "{'I-DISEASE': 1,\n",
       " 'I-TREATMENT': 2,\n",
       " 'B-CHECK': 3,\n",
       " 'I-CHECK': 4,\n",
       " 'B-SIGNS': 5,\n",
       " 'B-DISEASE': 6,\n",
       " 'I-BODY': 7,\n",
       " 'B-TREATMENT': 8,\n",
       " 'I-SIGNS': 9,\n",
       " 'O': 10,\n",
       " 'B-BODY': 11}"
      ]
     },
     "execution_count": 85,
     "metadata": {},
     "output_type": "execute_result"
    }
   ],
   "source": [
    "label2id = {label: i for i, label in enumerate(labels, 1)}\n",
    "id2label = dict(zip(label2id.values(), label2id.keys()))\n",
    "label2id"
   ]
  },
  {
   "cell_type": "code",
   "execution_count": 86,
   "metadata": {},
   "outputs": [],
   "source": [
    "def convert_token_to_id(data, mapping=token2id):\n",
    "    for s in data:\n",
    "        yield [mapping.get(i, 0) for i in s]\n",
    "\n",
    "def convert_label_to_id(labels):\n",
    "    for s in labels:\n",
    "        yield [label2id[i] for i in s]"
   ]
  },
  {
   "cell_type": "code",
   "execution_count": 87,
   "metadata": {},
   "outputs": [],
   "source": [
    "x_train = list(convert_token_to_id(train_tokens))\n",
    "x_val = list(convert_token_to_id(val_tokens))\n",
    "x_test = list(convert_token_to_id(test_tokens))\n",
    "y_train = list(convert_label_to_id(train_labels))\n",
    "y_val = list(convert_label_to_id(val_labels))\n",
    "y_test = list(convert_label_to_id(test_labels))\n",
    "x_train_word = list(convert_token_to_id(train_words, word_token2id))\n",
    "x_val_word = list(convert_token_to_id(val_words, word_token2id))\n",
    "x_test_word = list(convert_token_to_id(test_words, word_token2id))"
   ]
  },
  {
   "cell_type": "code",
   "execution_count": 88,
   "metadata": {},
   "outputs": [
    {
     "name": "stdout",
     "output_type": "stream",
     "text": [
      "25 11.0\n",
      "50 19.0\n",
      "75 33.0\n",
      "90 50.0\n",
      "95 60.0\n",
      "99 98.57000000000016\n",
      "99.5 109.0\n",
      "min: 1\n",
      "max: 186\n"
     ]
    }
   ],
   "source": [
    "for p in (25, 50, 75, 90, 95, 99, 99.5):\n",
    "    print(p, np.percentile([len(i) for i in x_train_word], p))\n",
    "print(\"min:\", min([len(i) for i in x_train_word]))\n",
    "print(\"max:\", max([len(i) for i in x_train_word]))"
   ]
  },
  {
   "cell_type": "code",
   "execution_count": 89,
   "metadata": {},
   "outputs": [
    {
     "name": "stdout",
     "output_type": "stream",
     "text": [
      "25 18.0\n",
      "50 31.0\n",
      "75 55.0\n",
      "90 81.0\n",
      "95 106.0\n",
      "99 164.0\n",
      "99.5 185.0\n",
      "min: 1\n",
      "max: 309\n"
     ]
    }
   ],
   "source": [
    "for p in (25, 50, 75, 90, 95, 99, 99.5):\n",
    "    print(p, np.percentile([len(i) for i in x_train], p))\n",
    "print(\"min:\", min([len(i) for i in x_train]))\n",
    "print(\"max:\", max([len(i) for i in x_train]))"
   ]
  },
  {
   "cell_type": "code",
   "execution_count": 90,
   "metadata": {},
   "outputs": [],
   "source": [
    "maxlen = 144"
   ]
  },
  {
   "cell_type": "code",
   "execution_count": 91,
   "metadata": {},
   "outputs": [],
   "source": [
    "x_train = pad_sequences(x_train, maxlen=maxlen, padding=\"pre\")\n",
    "x_val = pad_sequences(x_val, maxlen=maxlen, padding=\"pre\")\n",
    "x_test = pad_sequences(x_test, maxlen=maxlen, padding=\"pre\")\n",
    "y_train = pad_sequences(y_train, maxlen=maxlen, padding=\"pre\")\n",
    "y_val = pad_sequences(y_val, maxlen=maxlen, padding=\"pre\")\n",
    "y_test = pad_sequences(y_test, maxlen=maxlen, padding=\"pre\")\n",
    "\n",
    "x_train_word = pad_sequences(x_train_word, maxlen=60, padding=\"pre\")\n",
    "x_val_word = pad_sequences(x_val_word, maxlen=60, padding=\"pre\")\n",
    "x_test_word = pad_sequences(x_test_word, maxlen=60, padding=\"pre\")"
   ]
  },
  {
   "cell_type": "code",
   "execution_count": 92,
   "metadata": {},
   "outputs": [],
   "source": [
    "from htorch.nn.layers import CRF\n",
    "crf = CRF(3, batch_first=True)"
   ]
  },
  {
   "cell_type": "code",
   "execution_count": 93,
   "metadata": {},
   "outputs": [],
   "source": [
    "# crf(torch.tensor([[[1, 2, 3], [1, 2, 4]]]).float())\n",
    "# crf.log_likelihood_score(torch.tensor([[[1, 2, 3]]]).float(), torch.tensor([[1]]))"
   ]
  },
  {
   "cell_type": "code",
   "execution_count": 144,
   "metadata": {},
   "outputs": [],
   "source": [
    "from htorch.nn.layers import CRF, CRFOrg\n",
    "from htorch.nn.layers import SpatialDropout\n",
    "\n",
    "class BiLSTMCRF(nn.Module):\n",
    "    def __init__(self, vocab_size=len(train_vocab) + 1, char_dim=100, \n",
    "                 word_vocab_size=len(train_vocab_words) + 1, word_dim=300,\n",
    "                 num_tags=len(label2id), lstm_hidden_size=40, word_lstm_size=40, \n",
    "                 embedding_matrix=None, word_embedding_matrix=None):\n",
    "        super(BiLSTMCRF, self).__init__()\n",
    "        self.embedding = nn.Embedding(vocab_size, char_dim, padding_idx=0)\n",
    "        if embedding_matrix is None:\n",
    "            self.embedding.weight.data.normal_(-1, 1)\n",
    "            self.embedding.weight.requires_grad = True\n",
    "        else:\n",
    "            self.embedding.weight = nn.Parameter(embedding_matrix)\n",
    "            self.embedding.weight.requires_grad = False\n",
    "            \n",
    "        self.word_embedding = nn.Embedding(word_vocab_size, word_dim, padding_idx=0)\n",
    "        if word_embedding_matrix is None:\n",
    "            self.word_embedding.weight.data.normal_(-1, 1)\n",
    "            self.word_embedding.weight.requires_grad = True\n",
    "        else:\n",
    "            self.word_embedding.weight = nn.Parameter(word_embedding_matrix)\n",
    "            self.embedding.weight.requires_grad = False\n",
    "        self.lstm = nn.LSTM(char_dim, lstm_hidden_size, batch_first=True, bidirectional=True)\n",
    "        self.word_lstm = nn.LSTM(word_dim, word_lstm_size, batch_first=True, bidirectional=True)\n",
    "        self.embedding_dropout = SpatialDropout(0.5)\n",
    "        self.word_embedding_dropout = SpatialDropout(0.3)\n",
    "        self.dropout = nn.Dropout(0.7)\n",
    "        self.lstm_encoder = nn.Linear(lstm_hidden_size * 2 + word_lstm_size * 2, num_tags)\n",
    "        self.crf = CRFOrg(num_tags)  # , batch_first=True\n",
    "    \n",
    "    def _compute_feature(self, x):\n",
    "        char_x = self.embedding(x)\n",
    "        char_x = self.embedding_dropout(char_x)\n",
    "        char_x, _ = self.lstm(char_x)\n",
    "        w_x = self.word_embedding(x)\n",
    "#         w_x = self.word_embedding_dropout(w_x)\n",
    "        w_x, _ = self.word_lstm(w_x)\n",
    "        x = torch.cat([char_x, w_x], dim=-1)\n",
    "        x = self.dropout(x)\n",
    "        x = self.lstm_encoder(x)\n",
    "        return x\n",
    "    \n",
    "    def forward(self, x, x_words):\n",
    "        x = self._compute_feature(x)\n",
    "        x = self.crf(x)\n",
    "        return x\n",
    "    \n",
    "    def loss(self, x, x_words, y_true):\n",
    "        feature = self._compute_feature(x)\n",
    "#         return self.crf.log_likelihood_score(feature, y_true, reduction=\"mean\")\n",
    "        return self.crf.loss(feature, y_true)"
   ]
  },
  {
   "cell_type": "code",
   "execution_count": 95,
   "metadata": {},
   "outputs": [],
   "source": [
    "device = \"cuda\""
   ]
  },
  {
   "cell_type": "code",
   "execution_count": 96,
   "metadata": {},
   "outputs": [],
   "source": [
    "def build_dataloader(*x, y=None, batch_size=32, shuffle=False, device=device):\n",
    "    tensors = []\n",
    "    for i in x:\n",
    "        tensors.append(torch.tensor(i, dtype=torch.long, device=device))\n",
    "    if y is not None:\n",
    "        tensors.append(torch.tensor(y, dtype=torch.long, device=device))\n",
    "    dataset = tdata.TensorDataset(*tensors)\n",
    "    dataloader = tdata.DataLoader(dataset, batch_size=batch_size, shuffle=shuffle)\n",
    "    return dataloader"
   ]
  },
  {
   "cell_type": "code",
   "execution_count": 97,
   "metadata": {},
   "outputs": [],
   "source": [
    "import gensim\n",
    "\n",
    "def load_embedding(filename, vocab, dim=100):\n",
    "    model = gensim.models.KeyedVectors.load_word2vec_format(filename, binary=True, \n",
    "                                                            unicode_errors=\"ignore\")\n",
    "    embedding = np.zeros((len(vocab) + 1, dim))\n",
    "    for word, index in vocab.items():\n",
    "        if word not in model:\n",
    "            continue\n",
    "        embedding[index, :] = model[word]\n",
    "    return embedding"
   ]
  },
  {
   "cell_type": "code",
   "execution_count": 98,
   "metadata": {
    "scrolled": false
   },
   "outputs": [],
   "source": [
    "# embedding_matrix = load_embedding(\"../data/new_chn_fasttext.bin\", token2id, dim=100)"
   ]
  },
  {
   "cell_type": "code",
   "execution_count": 99,
   "metadata": {},
   "outputs": [],
   "source": [
    "train_dataloader = build_dataloader(x_train, x_train_word, y_train, batch_size=128, shuffle=True, device=device)\n",
    "val_dataloader = build_dataloader(x_val, x_val_word, y_val, batch_size=128, shuffle=False, device=device)"
   ]
  },
  {
   "cell_type": "code",
   "execution_count": 100,
   "metadata": {},
   "outputs": [],
   "source": [
    "import os\n",
    "import random\n",
    "\n",
    "def seed_everything(seed=1234):\n",
    "    random.seed(seed)\n",
    "    os.environ['PYTHONHASHSEED'] = str(seed)\n",
    "    np.random.seed(seed)\n",
    "    torch.manual_seed(seed)\n",
    "    torch.cuda.manual_seed(seed)\n",
    "    torch.backends.cudnn.deterministic = True"
   ]
  },
  {
   "cell_type": "code",
   "execution_count": 159,
   "metadata": {
    "scrolled": true
   },
   "outputs": [
    {
     "name": "stdout",
     "output_type": "stream",
     "text": [
      "Epoch: 1, train loss: 2.2298, val loss: 3.6609, time: 2.6\n",
      "Epoch: 2, train loss: 2.0910, val loss: 3.8225, time: 2.7\n",
      "Epoch: 3, train loss: 2.0112, val loss: 3.7463, time: 2.7\n",
      "Epoch: 4, train loss: 1.9018, val loss: 3.8499, time: 2.7\n",
      "Epoch: 5, train loss: 1.8761, val loss: 3.7836, time: 2.7\n",
      "Epoch: 6, train loss: 1.8367, val loss: 3.6960, time: 2.7\n",
      "Epoch: 7, train loss: 1.8899, val loss: 3.7646, time: 2.6\n",
      "Epoch: 8, train loss: 1.8470, val loss: 3.5966, time: 2.6\n",
      "Epoch: 9, train loss: 1.7948, val loss: 3.7214, time: 2.7\n",
      "Epoch: 10, train loss: 1.7995, val loss: 3.7419, time: 2.6\n"
     ]
    }
   ],
   "source": [
    "# embedding = torch.tensor(embedding_matrix, dtype=torch.float32, device=device)\n",
    "seed_everything(1234)\n",
    "# model = BiLSTMCRF(lstm_hidden_size=100, num_tags=len(label2id) + 1, \n",
    "#                   embedding_matrix=None)\n",
    "loss_fn = model.loss\n",
    "optimizer = torch.optim.Adam(model.parameters())\n",
    "\n",
    "model_trainer = ModelTrainer(model, loss_fn, optimizer, device=device)\n",
    "model = model_trainer.train(train_dataloader, val_dataloader, epochs=10, verbose=1, \n",
    "                            y_true=\"input\")"
   ]
  },
  {
   "cell_type": "code",
   "execution_count": 137,
   "metadata": {},
   "outputs": [],
   "source": [
    "# model_trainer.predict(train_dataloader, has_label=True)"
   ]
  },
  {
   "cell_type": "code",
   "execution_count": 160,
   "metadata": {},
   "outputs": [],
   "source": [
    "val_pred = model_trainer.predict(val_dataloader, has_label=True)\n",
    "train_dataloader_pred = build_dataloader(x_train, x_train_word, y_train, \n",
    "                                         batch_size=2048, shuffle=False, device=device)\n",
    "train_pred = model_trainer.predict(train_dataloader_pred, has_label=True)"
   ]
  },
  {
   "cell_type": "code",
   "execution_count": 161,
   "metadata": {},
   "outputs": [],
   "source": [
    "val_pred_label = [[id2label[i] for i in s if i] for s in val_pred]\n",
    "train_pred_label = [[id2label[i] for i in s if i] for s in train_pred]"
   ]
  },
  {
   "cell_type": "code",
   "execution_count": 162,
   "metadata": {
    "scrolled": false
   },
   "outputs": [
    {
     "name": "stdout",
     "output_type": "stream",
     "text": [
      "O|O|O|O|O|O|O|O|O|O|B-SIGNS|I-SIGNS|O|O|B-SIGNS|I-SIGNS|B-SIGNS|I-SIGNS|O|O|O|O|B-BODY|I-BODY|O|O|O\n",
      "O|O|O|O|O|O|O|O|O|O|B-SIGNS|I-SIGNS|O|O|B-SIGNS|I-SIGNS|B-SIGNS|I-SIGNS|O|O|O|O|B-BODY|I-BODY|O|O|O\n",
      "患|者|神|清|，|精|神|可|，|无|发|热|，|无|咳|嗽|咳|痰|，|饮|食|及|大|便|正|常|。\n"
     ]
    }
   ],
   "source": [
    "i = 22\n",
    "print('|'.join(val_pred_label[i]))\n",
    "print('|'.join(val_labels[i]))\n",
    "print('|'.join(val_tokens[i]))"
   ]
  },
  {
   "cell_type": "code",
   "execution_count": 163,
   "metadata": {},
   "outputs": [],
   "source": [
    "from htorch.metrics.sequence import sequence_f1"
   ]
  },
  {
   "cell_type": "code",
   "execution_count": 164,
   "metadata": {},
   "outputs": [
    {
     "data": {
      "text/plain": [
       "(0.8834894613583139, 0.8860833822665883, 0.8847845206684258)"
      ]
     },
     "execution_count": 164,
     "metadata": {},
     "output_type": "execute_result"
    }
   ],
   "source": [
    "sequence_f1(y_val, val_pred, id2label)"
   ]
  },
  {
   "cell_type": "code",
   "execution_count": 165,
   "metadata": {},
   "outputs": [
    {
     "data": {
      "text/plain": [
       "(0.9527477763659467, 0.9501821637890068, 0.9514632405424698)"
      ]
     },
     "execution_count": 165,
     "metadata": {},
     "output_type": "execute_result"
    }
   ],
   "source": [
    "sequence_f1(y_train, train_pred, id2label)"
   ]
  },
  {
   "cell_type": "code",
   "execution_count": 98,
   "metadata": {},
   "outputs": [
    {
     "name": "stdout",
     "output_type": "stream",
     "text": [
      "B-PER|I-PER|I-PER|O|O|O|O|O|O|O|O|O|O|O|O|O|O|O|O|O|O|O|O\n",
      "B-PER|I-PER|I-PER|O|O|O|O|O|O|O|O|O|O|O|O|O|O|O|O|O|O|O|O\n",
      "周|恩|来|总|理|说|，|那|就|送|一|株|万|古|常|青|的|友|谊|红|杉|吧|！\n"
     ]
    }
   ],
   "source": [
    "i = 25\n",
    "print('|'.join(train_pred_label[i]))\n",
    "print('|'.join(train_labels[i]))\n",
    "print('|'.join(train_tokens[i]))"
   ]
  },
  {
   "cell_type": "code",
   "execution_count": 34,
   "metadata": {},
   "outputs": [],
   "source": [
    "class MMM(nn.Module):\n",
    "    def __init__(self):\n",
    "        super().__init__()\n",
    "        self.dropout = nn.Dropout()\n",
    "    \n",
    "    def forward(self, x):\n",
    "        return self.dropout(x)"
   ]
  },
  {
   "cell_type": "code",
   "execution_count": 35,
   "metadata": {},
   "outputs": [],
   "source": [
    "a = torch.rand((5, 10, 10))"
   ]
  },
  {
   "cell_type": "code",
   "execution_count": 36,
   "metadata": {},
   "outputs": [
    {
     "data": {
      "text/plain": [
       "tensor([[[0.0000, 1.9541, 0.0000, 0.5803, 1.2009, 1.4002, 1.9079, 0.9438,\n",
       "          0.4426, 0.0000],\n",
       "         [0.6091, 0.0000, 0.0000, 0.0000, 0.0000, 1.3762, 0.0000, 1.9177,\n",
       "          1.6712, 0.5589],\n",
       "         [0.0000, 0.0000, 0.0000, 1.5544, 0.1537, 0.2537, 0.0000, 0.0000,\n",
       "          0.6286, 0.0000],\n",
       "         [0.0000, 1.4669, 0.0000, 0.0000, 1.7357, 0.0000, 1.9292, 0.0000,\n",
       "          0.0000, 0.4287],\n",
       "         [1.5792, 0.0000, 0.0000, 0.0000, 0.0000, 0.0000, 0.6595, 0.1251,\n",
       "          0.0000, 0.7667],\n",
       "         [0.1108, 1.5880, 0.2712, 0.0000, 0.0000, 0.0000, 0.9227, 0.0000,\n",
       "          1.6739, 1.8188],\n",
       "         [0.0000, 0.0000, 0.0809, 1.7883, 1.3815, 1.9409, 0.0000, 0.6050,\n",
       "          1.3982, 0.0000],\n",
       "         [0.0000, 0.0000, 0.0610, 0.0000, 0.3187, 1.6865, 0.6932, 0.0000,\n",
       "          1.8176, 1.1273],\n",
       "         [0.0000, 1.4328, 0.0000, 1.7913, 0.0000, 0.0000, 0.0000, 0.0000,\n",
       "          1.3483, 0.1882],\n",
       "         [0.0000, 1.7394, 1.1920, 1.4148, 1.7558, 0.0000, 0.0000, 0.0000,\n",
       "          0.0000, 0.0000]],\n",
       "\n",
       "        [[1.5886, 1.2332, 0.0000, 0.9453, 0.0000, 0.7373, 0.0000, 0.0000,\n",
       "          1.4214, 0.0000],\n",
       "         [0.0000, 0.0000, 0.0000, 0.2826, 0.8602, 0.0000, 0.0000, 0.0000,\n",
       "          0.0000, 0.0000],\n",
       "         [0.4722, 1.0385, 1.9907, 0.0000, 0.0000, 0.0000, 1.7379, 0.1485,\n",
       "          0.7988, 0.0000],\n",
       "         [0.4962, 1.4340, 0.0000, 1.6319, 0.0000, 1.8935, 0.0000, 0.1152,\n",
       "          1.5107, 0.4892],\n",
       "         [0.3255, 0.0000, 0.0000, 0.3672, 1.2567, 0.0000, 1.2124, 0.0000,\n",
       "          0.0000, 0.0000],\n",
       "         [0.6899, 1.8162, 0.0000, 0.0000, 0.0000, 0.0000, 0.2359, 1.1687,\n",
       "          0.4740, 0.2851],\n",
       "         [0.3746, 1.7681, 0.6549, 1.1631, 0.0000, 1.0592, 1.4456, 0.0600,\n",
       "          0.0000, 0.0000],\n",
       "         [0.6312, 0.0000, 0.0000, 1.9857, 0.0000, 0.6287, 0.1282, 0.0000,\n",
       "          0.0000, 1.3770],\n",
       "         [1.8510, 0.3586, 0.0000, 1.5073, 1.5493, 1.7461, 0.2571, 0.0000,\n",
       "          0.6661, 1.4798],\n",
       "         [0.0000, 0.4056, 1.9165, 0.0000, 1.2911, 0.0000, 0.0000, 0.9554,\n",
       "          1.2294, 0.9326]],\n",
       "\n",
       "        [[0.0000, 0.0000, 1.7696, 1.7291, 0.6914, 0.4367, 0.0000, 0.6731,\n",
       "          1.4386, 0.0000],\n",
       "         [1.3170, 1.5879, 0.0000, 0.1998, 0.0000, 0.0000, 0.0000, 0.0000,\n",
       "          0.4992, 0.0000],\n",
       "         [0.0000, 0.5106, 0.0000, 0.0000, 0.3943, 0.8976, 0.0000, 0.0000,\n",
       "          0.7571, 1.0635],\n",
       "         [0.0000, 0.0000, 0.0000, 1.9764, 0.0000, 0.0000, 0.0000, 1.4006,\n",
       "          0.1733, 1.6294],\n",
       "         [0.8261, 1.8593, 0.0000, 1.1394, 0.0000, 0.0000, 0.0000, 0.0000,\n",
       "          0.4487, 0.2721],\n",
       "         [0.7798, 0.0000, 0.0000, 0.0000, 0.0000, 0.5572, 1.5897, 0.8837,\n",
       "          0.0000, 0.7632],\n",
       "         [0.0000, 0.0000, 1.3749, 0.0000, 0.2333, 0.6631, 0.0000, 0.7072,\n",
       "          0.0000, 0.8927],\n",
       "         [0.0000, 0.0000, 0.1621, 0.3462, 0.0000, 0.5128, 0.0000, 1.9226,\n",
       "          1.0562, 1.0021],\n",
       "         [0.0000, 0.0000, 0.0000, 0.0000, 0.4576, 1.2375, 0.0361, 0.6019,\n",
       "          0.1250, 1.4432],\n",
       "         [0.6126, 1.1741, 0.7804, 0.4987, 1.0221, 1.1391, 0.0000, 0.0000,\n",
       "          0.1705, 0.0000]],\n",
       "\n",
       "        [[1.3498, 0.0000, 0.0000, 0.4739, 0.0000, 0.0000, 0.0000, 0.0000,\n",
       "          0.9377, 1.2993],\n",
       "         [0.6286, 0.0000, 0.0000, 0.0000, 0.4934, 1.8157, 1.3808, 0.0000,\n",
       "          0.0000, 0.0000],\n",
       "         [0.0000, 0.0000, 0.0000, 0.0000, 0.0000, 1.7190, 1.3466, 0.0000,\n",
       "          0.0000, 0.1512],\n",
       "         [0.1053, 1.5438, 1.6355, 1.1639, 0.0000, 0.0000, 0.0000, 0.0000,\n",
       "          1.7066, 0.0000],\n",
       "         [0.5961, 0.2757, 1.6925, 1.9946, 1.6054, 0.0137, 1.7118, 0.0000,\n",
       "          0.0000, 0.0990],\n",
       "         [0.0000, 0.1243, 1.1030, 0.0000, 0.2611, 0.0000, 0.0701, 0.7139,\n",
       "          0.0000, 0.0000],\n",
       "         [1.2414, 0.0000, 0.0000, 1.5954, 0.0000, 1.2521, 0.2069, 0.0000,\n",
       "          0.0000, 0.0000],\n",
       "         [0.0000, 1.2268, 0.0000, 0.9970, 0.5495, 0.0000, 0.0000, 0.0000,\n",
       "          0.0000, 1.6074],\n",
       "         [1.3042, 0.0000, 0.1851, 0.0000, 0.8061, 0.0000, 0.0000, 1.5571,\n",
       "          1.1118, 0.0000],\n",
       "         [0.0000, 0.0000, 1.5402, 1.7114, 0.6624, 0.0000, 0.0000, 0.9411,\n",
       "          1.7425, 0.0899]],\n",
       "\n",
       "        [[0.0000, 0.0000, 0.0000, 0.6234, 0.5061, 0.7936, 0.2374, 0.0000,\n",
       "          0.1824, 0.0000],\n",
       "         [0.0000, 1.9142, 0.0000, 0.0000, 1.5480, 0.4842, 0.0000, 0.0000,\n",
       "          0.0000, 0.0000],\n",
       "         [1.2092, 0.0000, 0.0000, 0.0000, 0.0000, 0.0000, 0.2109, 0.0000,\n",
       "          0.0000, 0.0000],\n",
       "         [1.7484, 0.0000, 0.0000, 0.0000, 0.0000, 0.0000, 0.5971, 0.0000,\n",
       "          1.7036, 1.0913],\n",
       "         [0.0000, 0.0000, 0.8200, 1.7556, 0.0000, 0.0000, 1.8162, 1.5855,\n",
       "          0.0000, 0.0000],\n",
       "         [0.0000, 1.9623, 0.6166, 0.2639, 0.0000, 0.0000, 0.0000, 0.5332,\n",
       "          0.0000, 0.0000],\n",
       "         [1.5688, 0.0000, 0.9303, 0.0000, 1.1543, 0.2255, 0.0000, 1.9951,\n",
       "          0.0000, 0.0496],\n",
       "         [1.5216, 1.0019, 1.7965, 1.7583, 0.0000, 0.0000, 0.0000, 0.0000,\n",
       "          0.0000, 0.0000],\n",
       "         [0.8725, 0.0000, 0.2484, 0.0000, 0.0000, 0.7916, 0.7853, 0.0000,\n",
       "          0.0000, 1.9615],\n",
       "         [0.0000, 0.7986, 0.0000, 1.3968, 0.3545, 0.2250, 0.0000, 0.0000,\n",
       "          1.5832, 1.9713]]])"
      ]
     },
     "execution_count": 36,
     "metadata": {},
     "output_type": "execute_result"
    }
   ],
   "source": [
    "mm = MMM()\n",
    "mm(a)"
   ]
  },
  {
   "cell_type": "code",
   "execution_count": null,
   "metadata": {},
   "outputs": [],
   "source": []
  }
 ],
 "metadata": {
  "kernelspec": {
   "display_name": "pytorch",
   "language": "python",
   "name": "pytorch"
  },
  "language_info": {
   "codemirror_mode": {
    "name": "ipython",
    "version": 3
   },
   "file_extension": ".py",
   "mimetype": "text/x-python",
   "name": "python",
   "nbconvert_exporter": "python",
   "pygments_lexer": "ipython3",
   "version": "3.7.3"
  }
 },
 "nbformat": 4,
 "nbformat_minor": 2
}
