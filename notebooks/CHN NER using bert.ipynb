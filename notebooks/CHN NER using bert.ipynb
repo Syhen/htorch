{
 "cells": [
  {
   "cell_type": "code",
   "execution_count": 1,
   "metadata": {},
   "outputs": [],
   "source": [
    "import numpy as np\n",
    "from pytorch_pretrained_bert import BertTokenizer\n",
    "from pytorch_pretrained_bert.modeling import BertModel\n",
    "from sklearn.model_selection import train_test_split\n",
    "import torch\n",
    "import torch.nn as nn\n",
    "import torch.utils.data as tdata\n",
    "from tqdm import tqdm"
   ]
  },
  {
   "cell_type": "code",
   "execution_count": 2,
   "metadata": {},
   "outputs": [],
   "source": [
    "from htorch.contrib.data.reader import CHNReader, CHNDetReader"
   ]
  },
  {
   "cell_type": "code",
   "execution_count": 3,
   "metadata": {},
   "outputs": [],
   "source": [
    "reader = CHNReader()\n",
    "# reader = CHNDetReader()"
   ]
  },
  {
   "cell_type": "code",
   "execution_count": 4,
   "metadata": {
    "scrolled": true
   },
   "outputs": [
    {
     "data": {
      "text/html": [
       "<div>\n",
       "<style scoped>\n",
       "    .dataframe tbody tr th:only-of-type {\n",
       "        vertical-align: middle;\n",
       "    }\n",
       "\n",
       "    .dataframe tbody tr th {\n",
       "        vertical-align: top;\n",
       "    }\n",
       "\n",
       "    .dataframe thead th {\n",
       "        text-align: right;\n",
       "    }\n",
       "</style>\n",
       "<table border=\"1\" class=\"dataframe\">\n",
       "  <thead>\n",
       "    <tr style=\"text-align: right;\">\n",
       "      <th></th>\n",
       "      <th>ner_tag</th>\n",
       "      <th>sentence_id</th>\n",
       "      <th>token</th>\n",
       "    </tr>\n",
       "  </thead>\n",
       "  <tbody>\n",
       "    <tr>\n",
       "      <th>0</th>\n",
       "      <td>O</td>\n",
       "      <td>0</td>\n",
       "      <td>海</td>\n",
       "    </tr>\n",
       "    <tr>\n",
       "      <th>1</th>\n",
       "      <td>O</td>\n",
       "      <td>0</td>\n",
       "      <td>钓</td>\n",
       "    </tr>\n",
       "  </tbody>\n",
       "</table>\n",
       "</div>"
      ],
      "text/plain": [
       "  ner_tag  sentence_id token\n",
       "0       O            0     海\n",
       "1       O            0     钓"
      ]
     },
     "execution_count": 4,
     "metadata": {},
     "output_type": "execute_result"
    }
   ],
   "source": [
    "train_data = reader.read(\"../data/CHN-NER/example.train\")\n",
    "val_data = reader.read(\"../data/CHN-NER/example.dev\")\n",
    "test_data = reader.read(\"../data/CHN-NER/example.test\")\n",
    "\n",
    "# train_data = reader.read(\"../data/CHN-NER-det/train_data\")\n",
    "# test_data = reader.read(\"../data/CHN-NER-det/test_data\")\n",
    "train_data.head(2)"
   ]
  },
  {
   "cell_type": "code",
   "execution_count": 5,
   "metadata": {},
   "outputs": [],
   "source": [
    "bert_path = \"/home/heyao/Downloads/bert-pretrain\"\n",
    "bert_tokenizer = BertTokenizer.from_pretrained(\"bert-base-chinese\")\n",
    "bert_model = BertModel.from_pretrained(\"bert-base-chinese\")"
   ]
  },
  {
   "cell_type": "code",
   "execution_count": 6,
   "metadata": {},
   "outputs": [],
   "source": [
    "from htorch.train.trainer import ModelTrainer"
   ]
  },
  {
   "cell_type": "code",
   "execution_count": 7,
   "metadata": {},
   "outputs": [],
   "source": [
    "def convert_data_to_sentences(data):\n",
    "    tokens = []\n",
    "    labels = []\n",
    "    for _, sentence in tqdm(data.groupby(\"sentence_id\")):\n",
    "        tokens.append(sentence.token.values)\n",
    "        labels.append(sentence.ner_tag.values)\n",
    "    return tokens, labels"
   ]
  },
  {
   "cell_type": "code",
   "execution_count": 8,
   "metadata": {},
   "outputs": [
    {
     "name": "stderr",
     "output_type": "stream",
     "text": [
      "100%|██████████| 20864/20864 [00:03<00:00, 5456.07it/s]\n",
      "100%|██████████| 2318/2318 [00:00<00:00, 5479.07it/s]\n",
      "100%|██████████| 4636/4636 [00:00<00:00, 5547.81it/s]"
     ]
    },
    {
     "name": "stdout",
     "output_type": "stream",
     "text": [
      "train: 20864\n",
      "val: 2318\n",
      "test: 4636\n"
     ]
    },
    {
     "name": "stderr",
     "output_type": "stream",
     "text": [
      "\n"
     ]
    }
   ],
   "source": [
    "train_tokens, train_labels = convert_data_to_sentences(train_data)\n",
    "val_tokens, val_labels = convert_data_to_sentences(val_data)\n",
    "# train_tokens, val_tokens, train_labels, val_labels = train_test_split(train_tokens, \n",
    "#                                                                       train_labels, \n",
    "#                                                                       test_size=0.1, \n",
    "#                                                                       random_state=42)\n",
    "test_tokens, test_labels = convert_data_to_sentences(test_data)\n",
    "print(\"train:\", len(train_tokens))\n",
    "print(\"val:\", len(val_tokens))\n",
    "print(\"test:\", len(test_tokens))"
   ]
  },
  {
   "cell_type": "code",
   "execution_count": 9,
   "metadata": {},
   "outputs": [],
   "source": [
    "train_tokens = [bert_tokenizer.tokenize(\"\".join(i)) for i in train_tokens]\n",
    "val_tokens = [bert_tokenizer.tokenize(\"\".join(i)) for i in val_tokens]\n",
    "test_tokens = [bert_tokenizer.tokenize(\"\".join(i)) for i in test_tokens]"
   ]
  },
  {
   "cell_type": "code",
   "execution_count": 10,
   "metadata": {},
   "outputs": [
    {
     "name": "stdout",
     "output_type": "stream",
     "text": [
      "{'B-ORG', 'O', 'B-PER', 'I-ORG', 'I-PER', 'I-LOC', 'B-LOC'}\n"
     ]
    },
    {
     "data": {
      "text/plain": [
       "['B-LOC', 'I-LOC', 'B-ORG', 'I-ORG', 'B-PER', 'I-PER', 'O']"
      ]
     },
     "execution_count": 10,
     "metadata": {},
     "output_type": "execute_result"
    }
   ],
   "source": [
    "from itertools import chain\n",
    "\n",
    "labels = set(chain.from_iterable(train_labels))\n",
    "print(labels)\n",
    "labels = ['B-LOC', 'I-LOC', 'B-ORG', 'I-ORG', 'B-PER', 'I-PER', 'O']\n",
    "labels"
   ]
  },
  {
   "cell_type": "code",
   "execution_count": 11,
   "metadata": {},
   "outputs": [
    {
     "data": {
      "text/plain": [
       "{'B-LOC': 1,\n",
       " 'I-LOC': 2,\n",
       " 'B-ORG': 3,\n",
       " 'I-ORG': 4,\n",
       " 'B-PER': 5,\n",
       " 'I-PER': 6,\n",
       " 'O': 7}"
      ]
     },
     "execution_count": 11,
     "metadata": {},
     "output_type": "execute_result"
    }
   ],
   "source": [
    "label2id = {label: i for i, label in enumerate(labels, 1)}\n",
    "id2label = dict(zip(label2id.values(), label2id.keys()))\n",
    "label2id"
   ]
  },
  {
   "cell_type": "code",
   "execution_count": 12,
   "metadata": {},
   "outputs": [],
   "source": [
    "def convert_token_to_id(data):\n",
    "    for s in data:\n",
    "        yield [token2id.get(i, 0) for i in s]\n",
    "\n",
    "def convert_label_to_id(labels):\n",
    "    for s in labels:\n",
    "        yield [label2id[i] for i in s]"
   ]
  },
  {
   "cell_type": "code",
   "execution_count": 13,
   "metadata": {},
   "outputs": [],
   "source": [
    "x_train = [bert_tokenizer.convert_tokens_to_ids(i) for i in train_tokens]\n",
    "x_val = [bert_tokenizer.convert_tokens_to_ids(i) for i in val_tokens]\n",
    "x_test = [bert_tokenizer.convert_tokens_to_ids(i) for i in test_tokens]\n",
    "\n",
    "y_train = list(convert_label_to_id(train_labels))\n",
    "y_val = list(convert_label_to_id(val_labels))\n",
    "y_test = list(convert_label_to_id(test_labels))\n",
    "\n",
    "mask_train = [[1] * len(i) for i in x_train]\n",
    "mask_val = [[1] * len(i) for i in x_val]\n",
    "mask_test = [[1] * len(i) for i in x_test]"
   ]
  },
  {
   "cell_type": "code",
   "execution_count": 14,
   "metadata": {},
   "outputs": [
    {
     "name": "stderr",
     "output_type": "stream",
     "text": [
      "Using TensorFlow backend.\n"
     ]
    }
   ],
   "source": [
    "from keras.preprocessing.sequence import pad_sequences\n",
    "\n",
    "maxlen = 128\n",
    "x_train = pad_sequences(x_train, maxlen=maxlen, padding=\"pre\")\n",
    "x_val = pad_sequences(x_val, maxlen=maxlen, padding=\"pre\")\n",
    "x_test = pad_sequences(x_test, maxlen=maxlen, padding=\"pre\")\n",
    "y_train = pad_sequences(y_train, maxlen=maxlen, padding=\"pre\")\n",
    "y_val = pad_sequences(y_val, maxlen=maxlen, padding=\"pre\")\n",
    "y_test = pad_sequences(y_test, maxlen=maxlen, padding=\"pre\")\n",
    "mask_train = pad_sequences(mask_train, maxlen=maxlen, padding=\"pre\")\n",
    "mask_val = pad_sequences(mask_val, maxlen=maxlen, padding=\"pre\")\n",
    "mask_test = pad_sequences(mask_test, maxlen=maxlen, padding=\"pre\")"
   ]
  },
  {
   "cell_type": "code",
   "execution_count": 15,
   "metadata": {},
   "outputs": [],
   "source": [
    "# from htorch.nn.layers import CRF\n",
    "# crf = CRF(3, batch_first=True)\n",
    "# crf(torch.tensor([[[1, 2, 3], [1, 2, 4]]]).float())\n",
    "# crf.log_likelihood_score(torch.tensor([[[1, 2, 3]]]).float(), torch.tensor([[1]]))"
   ]
  },
  {
   "cell_type": "code",
   "execution_count": 55,
   "metadata": {},
   "outputs": [],
   "source": [
    "from htorch.nn.layers import CRF, CRFOrg\n",
    "from htorch.nn.layers import SpatialDropout\n",
    "\n",
    "class BiLSTMCRF(nn.Module):\n",
    "    def __init__(self, num_tags=len(label2id)):\n",
    "        super(BiLSTMCRF, self).__init__()\n",
    "#         self.embedding = nn.Embedding(vocab_size, dim, padding_idx=0)\n",
    "#         if embedding_matrix is None:\n",
    "#             self.embedding.weight.data.normal_(-1, 1)\n",
    "#         else:\n",
    "#             self.embedding.weight = nn.Parameter(embedding_matrix)\n",
    "#             self.embedding.weight.requires_grad = False\n",
    "        self.bert = bert_model\n",
    "#         self.lstm = nn.LSTM(dim, lstm_hidden_size, batch_first=True, bidirectional=True)\n",
    "#         self.embedding_dropout = SpatialDropout(0.3)\n",
    "        self.dropout = nn.Dropout(0.5)\n",
    "        self.lstm_encoder = nn.Linear(768, num_tags)\n",
    "        self.crf = CRFOrg(num_tags)  # , batch_first=True\n",
    "    \n",
    "    def _compute_feature(self, x, mask):\n",
    "        x, _ = self.bert(x, attention_mask=mask, output_all_encoded_layers=False)\n",
    "#         x, _ = self.lstm(x)\n",
    "#         x = self.dropout(x)\n",
    "        x = self.lstm_encoder(x)\n",
    "        return x\n",
    "    \n",
    "    def forward(self, x, mask):\n",
    "        x = self._compute_feature(x, mask)\n",
    "        x = self.crf(x)\n",
    "        return x\n",
    "    \n",
    "    def loss(self, x, mask, y_true):\n",
    "        feature = self._compute_feature(x, mask)\n",
    "#         return self.crf.log_likelihood_score(feature, y_true, reduction=\"mean\")\n",
    "        return self.crf.loss(feature, y_true)"
   ]
  },
  {
   "cell_type": "code",
   "execution_count": 17,
   "metadata": {},
   "outputs": [],
   "source": [
    "device = \"cuda\""
   ]
  },
  {
   "cell_type": "code",
   "execution_count": 18,
   "metadata": {},
   "outputs": [],
   "source": [
    "def build_dataloader(*x, y=None, batch_size=32, shuffle=False, device=device):\n",
    "    tensors = []\n",
    "    for i in x:\n",
    "        tensors.append(torch.tensor(i, dtype=torch.long, device=device))\n",
    "    if y is not None:\n",
    "        tensors.append(torch.tensor(y, dtype=torch.long, device=device))\n",
    "    dataset = tdata.TensorDataset(*tensors)\n",
    "    dataloader = tdata.DataLoader(dataset, batch_size=batch_size, shuffle=shuffle)\n",
    "    return dataloader"
   ]
  },
  {
   "cell_type": "code",
   "execution_count": 19,
   "metadata": {},
   "outputs": [],
   "source": [
    "import gensim\n",
    "\n",
    "def load_embedding(filename, vocab, dim=100):\n",
    "    model = gensim.models.KeyedVectors.load_word2vec_format(filename, binary=True, \n",
    "                                                            unicode_errors=\"ignore\")\n",
    "    embedding = np.zeros((len(vocab) + 1, dim))\n",
    "    for word, index in vocab.items():\n",
    "        if word not in model:\n",
    "            continue\n",
    "        embedding[index, :] = model[word]\n",
    "    return embedding"
   ]
  },
  {
   "cell_type": "code",
   "execution_count": 20,
   "metadata": {
    "scrolled": false
   },
   "outputs": [],
   "source": [
    "# embedding_matrix = load_embedding(\"../data/new_chn_fasttext.bin\", token2id, dim=100)"
   ]
  },
  {
   "cell_type": "code",
   "execution_count": 56,
   "metadata": {},
   "outputs": [],
   "source": [
    "train_dataloader = build_dataloader(x_train, mask_train, y_train, batch_size=16, shuffle=True, device=device)\n",
    "val_dataloader = build_dataloader(x_val, mask_val, y_val, batch_size=16, shuffle=False, device=device)"
   ]
  },
  {
   "cell_type": "code",
   "execution_count": 71,
   "metadata": {
    "scrolled": false
   },
   "outputs": [
    {
     "name": "stderr",
     "output_type": "stream",
     "text": [
      "t_total value of -1 results in schedule not being applied\n",
      "100%|██████████| 1304/1304 [11:10<00:00,  1.96it/s]"
     ]
    },
    {
     "name": "stdout",
     "output_type": "stream",
     "text": [
      "Epoch: 1, train loss: 1.1926, time: 670.9\n"
     ]
    },
    {
     "name": "stderr",
     "output_type": "stream",
     "text": [
      "\n"
     ]
    }
   ],
   "source": [
    "from pytorch_pretrained_bert import BertAdam\n",
    "# embedding = torch.tensor(embedding_matrix, dtype=torch.float32, device=device)\n",
    "# model = BiLSTMCRF(num_tags=len(label2id) + 1)\n",
    "loss_fn = model.loss\n",
    "# optimizer = torch.optim.Adam(model.parameters())\n",
    "optimizer = BertAdam(model.parameters(), lr=3e-5)\n",
    "\n",
    "model_trainer = ModelTrainer(model, loss_fn, optimizer, device=device)\n",
    "model = model_trainer.train(train_dataloader, val_dataloader=None, epochs=1, verbose=1, \n",
    "                            y_true=\"input\", verbose_step=True)"
   ]
  },
  {
   "cell_type": "code",
   "execution_count": 23,
   "metadata": {},
   "outputs": [],
   "source": [
    "# model_trainer.predict(train_dataloader, has_label=True)"
   ]
  },
  {
   "cell_type": "code",
   "execution_count": 72,
   "metadata": {},
   "outputs": [],
   "source": [
    "val_pred = model_trainer.predict(val_dataloader, has_label=True)\n",
    "train_dataloader_pred = build_dataloader(x_train, mask_train, y_train, batch_size=16, \n",
    "                                         shuffle=False, device=device)\n",
    "train_pred = model_trainer.predict(train_dataloader_pred, has_label=True)"
   ]
  },
  {
   "cell_type": "code",
   "execution_count": 73,
   "metadata": {},
   "outputs": [],
   "source": [
    "val_pred_label = [[id2label[i] for i in s if i] for s in val_pred]\n",
    "train_pred_label = [[id2label[i] for i in s if i] for s in train_pred]"
   ]
  },
  {
   "cell_type": "code",
   "execution_count": 74,
   "metadata": {
    "scrolled": false
   },
   "outputs": [
    {
     "name": "stdout",
     "output_type": "stream",
     "text": [
      "O|O|O|O|O|O|B-ORG|I-ORG|I-ORG|I-ORG|I-ORG|I-ORG|I-ORG|O|B-ORG|I-ORG|I-ORG|I-ORG|I-ORG|I-ORG|O|O|O|O|O|O|O|O|O|O|O|O|O|O|O|O|B-PER|I-PER|I-PER|O|B-PER|I-PER|I-PER|O|B-PER|I-PER|I-PER|O|O|O|O|O|O|O|O|O|O|O|O|O|O|O|O|O|O\n",
      "O|O|O|O|O|O|B-ORG|I-ORG|I-ORG|I-ORG|I-ORG|I-ORG|I-ORG|O|B-ORG|I-ORG|I-ORG|I-ORG|I-ORG|I-ORG|O|O|O|O|O|O|O|O|O|O|O|O|O|O|O|O|B-PER|I-PER|I-PER|O|B-PER|I-PER|I-PER|O|B-PER|I-PER|I-PER|O|O|O|O|O|O|O|O|O|O|O|O|O|O|O|O|O|O\n",
      "这|个|出|版|社|与|总|社|新|闻|研|究|所|、|中|国|新|闻|学|院|合|作|编|撰|的|国|家|[UNK]|九|五|[UNK]|重|点|图|书|《|毛|泽|东|、|邓|小|平|、|江|泽|民|新|闻|宣|传|思|想|研|究|》|已|取|得|实|质|性|进|展|。\n"
     ]
    }
   ],
   "source": [
    "i = 22\n",
    "print('|'.join(val_pred_label[i]))\n",
    "print('|'.join(val_labels[i]))\n",
    "print('|'.join(val_tokens[i]))"
   ]
  },
  {
   "cell_type": "code",
   "execution_count": 75,
   "metadata": {},
   "outputs": [],
   "source": [
    "from htorch.metrics.sequence import sequence_f1"
   ]
  },
  {
   "cell_type": "code",
   "execution_count": 76,
   "metadata": {},
   "outputs": [
    {
     "data": {
      "text/plain": [
       "(0.8428862379982542, 0.8760205624433021, 0.8591340450771056)"
      ]
     },
     "execution_count": 76,
     "metadata": {},
     "output_type": "execute_result"
    }
   ],
   "source": [
    "sequence_f1(y_val, val_pred, id2label)"
   ]
  },
  {
   "cell_type": "code",
   "execution_count": 77,
   "metadata": {},
   "outputs": [
    {
     "data": {
      "text/plain": [
       "(0.9314683960894395, 0.9451301358651171, 0.9382495368715266)"
      ]
     },
     "execution_count": 77,
     "metadata": {},
     "output_type": "execute_result"
    }
   ],
   "source": [
    "sequence_f1(y_train, train_pred, id2label)"
   ]
  },
  {
   "cell_type": "code",
   "execution_count": null,
   "metadata": {},
   "outputs": [],
   "source": [
    "i = 23\n",
    "print('|'.join(val_pred_label[i]))\n",
    "print('|'.join(train_labels[i]))\n",
    "print('|'.join(train_tokens[i]))"
   ]
  },
  {
   "cell_type": "code",
   "execution_count": null,
   "metadata": {},
   "outputs": [],
   "source": [
    "class MMM(nn.Module):\n",
    "    def __init__(self):\n",
    "        super().__init__()\n",
    "        self.dropout = nn.Dropout()\n",
    "    \n",
    "    def forward(self, x):\n",
    "        return self.dropout(x)"
   ]
  },
  {
   "cell_type": "code",
   "execution_count": null,
   "metadata": {},
   "outputs": [],
   "source": [
    "a = torch.rand((5, 10, 10))"
   ]
  },
  {
   "cell_type": "code",
   "execution_count": null,
   "metadata": {},
   "outputs": [],
   "source": [
    "mm = MMM()\n",
    "mm(a)"
   ]
  },
  {
   "cell_type": "code",
   "execution_count": null,
   "metadata": {},
   "outputs": [],
   "source": []
  }
 ],
 "metadata": {
  "kernelspec": {
   "display_name": "pytorch",
   "language": "python",
   "name": "pytorch"
  },
  "language_info": {
   "codemirror_mode": {
    "name": "ipython",
    "version": 3
   },
   "file_extension": ".py",
   "mimetype": "text/x-python",
   "name": "python",
   "nbconvert_exporter": "python",
   "pygments_lexer": "ipython3",
   "version": "3.7.3"
  }
 },
 "nbformat": 4,
 "nbformat_minor": 2
}
