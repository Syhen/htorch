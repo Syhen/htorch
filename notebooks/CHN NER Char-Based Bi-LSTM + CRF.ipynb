{
 "cells": [
  {
   "cell_type": "code",
   "execution_count": 1,
   "metadata": {},
   "outputs": [
    {
     "name": "stderr",
     "output_type": "stream",
     "text": [
      "Using TensorFlow backend.\n"
     ]
    }
   ],
   "source": [
    "import numpy as np\n",
    "from sklearn.model_selection import train_test_split\n",
    "import torch\n",
    "import torch.nn as nn\n",
    "import torch.utils.data as tdata\n",
    "from tqdm import tqdm\n",
    "from keras.preprocessing.sequence import pad_sequences"
   ]
  },
  {
   "cell_type": "code",
   "execution_count": 2,
   "metadata": {},
   "outputs": [],
   "source": [
    "from htorch.contrib.data.reader import CHNReader, CHNDetReader"
   ]
  },
  {
   "cell_type": "code",
   "execution_count": 3,
   "metadata": {},
   "outputs": [],
   "source": [
    "reader = CHNReader()\n",
    "# reader = CHNDetReader()"
   ]
  },
  {
   "cell_type": "code",
   "execution_count": 4,
   "metadata": {},
   "outputs": [
    {
     "data": {
      "text/html": [
       "<div>\n",
       "<style scoped>\n",
       "    .dataframe tbody tr th:only-of-type {\n",
       "        vertical-align: middle;\n",
       "    }\n",
       "\n",
       "    .dataframe tbody tr th {\n",
       "        vertical-align: top;\n",
       "    }\n",
       "\n",
       "    .dataframe thead th {\n",
       "        text-align: right;\n",
       "    }\n",
       "</style>\n",
       "<table border=\"1\" class=\"dataframe\">\n",
       "  <thead>\n",
       "    <tr style=\"text-align: right;\">\n",
       "      <th></th>\n",
       "      <th>ner_tag</th>\n",
       "      <th>sentence_id</th>\n",
       "      <th>token</th>\n",
       "    </tr>\n",
       "  </thead>\n",
       "  <tbody>\n",
       "    <tr>\n",
       "      <th>0</th>\n",
       "      <td>O</td>\n",
       "      <td>0</td>\n",
       "      <td>海</td>\n",
       "    </tr>\n",
       "    <tr>\n",
       "      <th>1</th>\n",
       "      <td>O</td>\n",
       "      <td>0</td>\n",
       "      <td>钓</td>\n",
       "    </tr>\n",
       "  </tbody>\n",
       "</table>\n",
       "</div>"
      ],
      "text/plain": [
       "  ner_tag  sentence_id token\n",
       "0       O            0     海\n",
       "1       O            0     钓"
      ]
     },
     "execution_count": 4,
     "metadata": {},
     "output_type": "execute_result"
    }
   ],
   "source": [
    "train_data = reader.read(\"../data/CHN-NER/example.train\")\n",
    "val_data = reader.read(\"../data/CHN-NER/example.dev\")\n",
    "test_data = reader.read(\"../data/CHN-NER/example.test\")\n",
    "\n",
    "# train_data = reader.read(\"../data/CHN-NER-det/train_data\")\n",
    "# test_data = reader.read(\"../data/CHN-NER-det/test_data\")\n",
    "train_data.head(2)"
   ]
  },
  {
   "cell_type": "code",
   "execution_count": 5,
   "metadata": {},
   "outputs": [],
   "source": [
    "from htorch.train.trainer import ModelTrainer"
   ]
  },
  {
   "cell_type": "code",
   "execution_count": 6,
   "metadata": {},
   "outputs": [],
   "source": [
    "def convert_data_to_sentences(data):\n",
    "    tokens = []\n",
    "    labels = []\n",
    "    for _, sentence in tqdm(data.groupby(\"sentence_id\")):\n",
    "        tokens.append(sentence.token.values)\n",
    "        labels.append(sentence.ner_tag.values)\n",
    "    return tokens, labels"
   ]
  },
  {
   "cell_type": "code",
   "execution_count": 7,
   "metadata": {},
   "outputs": [
    {
     "name": "stderr",
     "output_type": "stream",
     "text": [
      "100%|██████████| 20864/20864 [00:03<00:00, 5549.21it/s]\n",
      "100%|██████████| 2318/2318 [00:00<00:00, 5509.50it/s]\n",
      "100%|██████████| 4636/4636 [00:00<00:00, 5482.11it/s]"
     ]
    },
    {
     "name": "stdout",
     "output_type": "stream",
     "text": [
      "train: 20864\n",
      "val: 2318\n",
      "test: 4636\n"
     ]
    },
    {
     "name": "stderr",
     "output_type": "stream",
     "text": [
      "\n"
     ]
    }
   ],
   "source": [
    "train_tokens, train_labels = convert_data_to_sentences(train_data)\n",
    "val_tokens, val_labels = convert_data_to_sentences(val_data)\n",
    "# train_tokens, val_tokens, train_labels, val_labels = train_test_split(train_tokens, \n",
    "#                                                                       train_labels, \n",
    "#                                                                       test_size=0.1, \n",
    "#                                                                       random_state=42)\n",
    "test_tokens, test_labels = convert_data_to_sentences(test_data)\n",
    "print(\"train:\", len(train_tokens))\n",
    "print(\"val:\", len(val_tokens))\n",
    "print(\"test:\", len(test_tokens))"
   ]
  },
  {
   "cell_type": "code",
   "execution_count": 8,
   "metadata": {},
   "outputs": [
    {
     "name": "stdout",
     "output_type": "stream",
     "text": [
      "train vocab size: 4312\n",
      "val vocab size: 2931\n",
      "only val vocab size: 64\n"
     ]
    }
   ],
   "source": [
    "from itertools import chain\n",
    "\n",
    "train_vocab = list(set(chain.from_iterable(train_tokens)))\n",
    "val_vocab = list(set(chain.from_iterable(val_tokens)))\n",
    "test_vocab = list(set(chain.from_iterable(test_tokens)))\n",
    "\n",
    "print(\"train vocab size:\", len(train_vocab))\n",
    "print(\"val vocab size:\", len(val_vocab))\n",
    "print(\"only val vocab size:\", len(set(val_vocab) - set(train_vocab)))"
   ]
  },
  {
   "cell_type": "code",
   "execution_count": 9,
   "metadata": {},
   "outputs": [],
   "source": [
    "token2id = {token: i for i, token in enumerate(train_vocab, 1)}"
   ]
  },
  {
   "cell_type": "code",
   "execution_count": 10,
   "metadata": {},
   "outputs": [
    {
     "name": "stdout",
     "output_type": "stream",
     "text": [
      "{'I-ORG', 'I-LOC', 'B-ORG', 'I-PER', 'B-PER', 'B-LOC', 'O'}\n"
     ]
    },
    {
     "data": {
      "text/plain": [
       "['B-LOC', 'I-LOC', 'B-ORG', 'I-ORG', 'B-PER', 'I-PER', 'O']"
      ]
     },
     "execution_count": 10,
     "metadata": {},
     "output_type": "execute_result"
    }
   ],
   "source": [
    "labels = set(chain.from_iterable(train_labels))\n",
    "print(labels)\n",
    "labels = ['B-LOC', 'I-LOC', 'B-ORG', 'I-ORG', 'B-PER', 'I-PER', 'O']\n",
    "labels"
   ]
  },
  {
   "cell_type": "code",
   "execution_count": 11,
   "metadata": {},
   "outputs": [
    {
     "data": {
      "text/plain": [
       "{'B-LOC': 1,\n",
       " 'I-LOC': 2,\n",
       " 'B-ORG': 3,\n",
       " 'I-ORG': 4,\n",
       " 'B-PER': 5,\n",
       " 'I-PER': 6,\n",
       " 'O': 7}"
      ]
     },
     "execution_count": 11,
     "metadata": {},
     "output_type": "execute_result"
    }
   ],
   "source": [
    "label2id = {label: i for i, label in enumerate(labels, 1)}\n",
    "id2label = dict(zip(label2id.values(), label2id.keys()))\n",
    "label2id"
   ]
  },
  {
   "cell_type": "code",
   "execution_count": 12,
   "metadata": {},
   "outputs": [],
   "source": [
    "def convert_token_to_id(data):\n",
    "    for s in data:\n",
    "        yield [token2id.get(i, 0) for i in s]\n",
    "\n",
    "def convert_label_to_id(labels):\n",
    "    for s in labels:\n",
    "        yield [label2id[i] for i in s]"
   ]
  },
  {
   "cell_type": "code",
   "execution_count": 13,
   "metadata": {},
   "outputs": [],
   "source": [
    "x_train = list(convert_token_to_id(train_tokens))\n",
    "x_val = list(convert_token_to_id(val_tokens))\n",
    "x_test = list(convert_token_to_id(test_tokens))\n",
    "y_train = list(convert_label_to_id(train_labels))\n",
    "y_val = list(convert_label_to_id(val_labels))\n",
    "y_test = list(convert_label_to_id(test_labels))"
   ]
  },
  {
   "cell_type": "code",
   "execution_count": 14,
   "metadata": {},
   "outputs": [
    {
     "name": "stdout",
     "output_type": "stream",
     "text": [
      "25 28.0\n",
      "50 40.0\n",
      "75 58.0\n",
      "90 80.0\n",
      "95 97.0\n",
      "99 144.0\n",
      "99.5 172.0\n",
      "min: 6\n",
      "max: 574\n"
     ]
    }
   ],
   "source": [
    "for p in (25, 50, 75, 90, 95, 99, 99.5):\n",
    "    print(p, np.percentile([len(i) for i in x_train], p))\n",
    "print(\"min:\", min([len(i) for i in x_train]))\n",
    "print(\"max:\", max([len(i) for i in x_train]))"
   ]
  },
  {
   "cell_type": "code",
   "execution_count": 15,
   "metadata": {},
   "outputs": [],
   "source": [
    "maxlen = 144"
   ]
  },
  {
   "cell_type": "code",
   "execution_count": 16,
   "metadata": {},
   "outputs": [],
   "source": [
    "x_train = pad_sequences(x_train, maxlen=maxlen, padding=\"pre\")\n",
    "x_val = pad_sequences(x_val, maxlen=maxlen, padding=\"pre\")\n",
    "x_test = pad_sequences(x_test, maxlen=maxlen, padding=\"pre\")\n",
    "y_train = pad_sequences(y_train, maxlen=maxlen, padding=\"pre\")\n",
    "y_val = pad_sequences(y_val, maxlen=maxlen, padding=\"pre\")\n",
    "y_test = pad_sequences(y_test, maxlen=maxlen, padding=\"pre\")"
   ]
  },
  {
   "cell_type": "code",
   "execution_count": 17,
   "metadata": {},
   "outputs": [],
   "source": [
    "from htorch.nn.layers import CRF\n",
    "crf = CRF(3, batch_first=True)"
   ]
  },
  {
   "cell_type": "code",
   "execution_count": 18,
   "metadata": {},
   "outputs": [],
   "source": [
    "# crf(torch.tensor([[[1, 2, 3], [1, 2, 4]]]).float())\n",
    "# crf.log_likelihood_score(torch.tensor([[[1, 2, 3]]]).float(), torch.tensor([[1]]))"
   ]
  },
  {
   "cell_type": "code",
   "execution_count": 113,
   "metadata": {},
   "outputs": [],
   "source": [
    "from htorch.nn.layers import CRF\n",
    "\n",
    "class BiLSTMCRF(nn.Module):\n",
    "    def __init__(self, vocab_size=len(train_vocab) + 1, dim=100, num_tags=len(label2id), \n",
    "                 lstm_hidden_size=40, embedding_matrix=None):\n",
    "        super(BiLSTMCRF, self).__init__()\n",
    "        self.embedding = nn.Embedding(vocab_size, dim, padding_idx=0)\n",
    "        if embedding_matrix is None:\n",
    "            self.embedding.weight.data.normal_(-1, 1)\n",
    "        else:\n",
    "            self.embedding.weight = nn.Parameter(embedding_matrix)\n",
    "            self.embedding.weight.requires_grad = False\n",
    "        self.lstm = nn.LSTM(dim, lstm_hidden_size, batch_first=True, bidirectional=True)\n",
    "        self.lstm_encoder = nn.Linear(lstm_hidden_size * 2, num_tags)\n",
    "        self.crf = CRF(num_tags, batch_first=True)\n",
    "    \n",
    "    def _compute_feature(self, x):\n",
    "        x = self.embedding(x)\n",
    "        x, _ = self.lstm(x)\n",
    "        x = self.lstm_encoder(x)\n",
    "        return x\n",
    "    \n",
    "    def forward(self, x):\n",
    "        x = self._compute_feature(x)\n",
    "        x = self.crf(x)\n",
    "        return x\n",
    "    \n",
    "    def loss(self, x, y_true):\n",
    "        feature = self._compute_feature(x)\n",
    "        return self.crf.log_likelihood_score(feature, y_true, reduction=\"mean\")"
   ]
  },
  {
   "cell_type": "code",
   "execution_count": 66,
   "metadata": {},
   "outputs": [],
   "source": [
    "device = \"cuda\""
   ]
  },
  {
   "cell_type": "code",
   "execution_count": 67,
   "metadata": {},
   "outputs": [],
   "source": [
    "def build_dataloader(x, y=None, batch_size=32, shuffle=False, device=device):\n",
    "    x = torch.tensor(x, dtype=torch.long, device=device)\n",
    "    if y is not None:\n",
    "        y = torch.tensor(y, dtype=torch.long, device=device)\n",
    "        dataset = tdata.TensorDataset(x, y)\n",
    "    else:\n",
    "        dataset = tdata.TensorDataset(x)\n",
    "    dataloader = tdata.DataLoader(dataset, batch_size=batch_size, shuffle=shuffle)\n",
    "    return dataloader"
   ]
  },
  {
   "cell_type": "code",
   "execution_count": 109,
   "metadata": {},
   "outputs": [],
   "source": [
    "import gensim\n",
    "\n",
    "def load_embedding(filename, vocab, dim=100):\n",
    "    model = gensim.models.KeyedVectors.load_word2vec_format(filename, binary=True, \n",
    "                                                            unicode_errors=\"ignore\")\n",
    "    embedding = np.zeros((len(vocab) + 1, dim))\n",
    "    for word, index in vocab.items():\n",
    "        if word not in model:\n",
    "            continue\n",
    "        embedding[index, :] = model[word]\n",
    "    return embedding"
   ]
  },
  {
   "cell_type": "code",
   "execution_count": 110,
   "metadata": {
    "scrolled": false
   },
   "outputs": [
    {
     "name": "stderr",
     "output_type": "stream",
     "text": [
      "/home/heyao/.conda/envs/venv3.7/lib/python3.7/site-packages/smart_open/smart_open_lib.py:398: UserWarning: This function is deprecated, use smart_open.open instead. See the migration notes for details: https://github.com/RaRe-Technologies/smart_open/blob/master/README.rst#migrating-to-the-new-open-function\n",
      "  'See the migration notes for details: %s' % _MIGRATION_NOTES_URL\n"
     ]
    }
   ],
   "source": [
    "embedding_matrix = load_embedding(\"../data/new_chn_fasttext.bin\", token2id, dim=100)"
   ]
  },
  {
   "cell_type": "code",
   "execution_count": 132,
   "metadata": {},
   "outputs": [],
   "source": [
    "train_dataloader = build_dataloader(x_train, y_train, batch_size=128, shuffle=True, device=device)\n",
    "val_dataloader = build_dataloader(x_val, y_val, batch_size=128, shuffle=False, device=device)"
   ]
  },
  {
   "cell_type": "code",
   "execution_count": 133,
   "metadata": {
    "scrolled": true
   },
   "outputs": [
    {
     "name": "stdout",
     "output_type": "stream",
     "text": [
      "Epoch: 1, train loss: 3.5140, val loss: 30.9955, time: 79.3\n",
      "Epoch: 2, train loss: 2.8375, val loss: 31.6800, time: 78.9\n",
      "Epoch: 3, train loss: 2.3744, val loss: 31.6873, time: 79.5\n",
      "Epoch: 4, train loss: 2.0209, val loss: 30.4260, time: 79.4\n",
      "Epoch: 5, train loss: 1.7400, val loss: 31.3082, time: 79.0\n"
     ]
    },
    {
     "data": {
      "text/plain": [
       "BiLSTMCRF(\n",
       "  (embedding): Embedding(4313, 100, padding_idx=0)\n",
       "  (lstm): LSTM(100, 100, batch_first=True, bidirectional=True)\n",
       "  (lstm_encoder): Linear(in_features=200, out_features=8, bias=True)\n",
       "  (crf): CRF(num_tags=8)\n",
       ")"
      ]
     },
     "execution_count": 133,
     "metadata": {},
     "output_type": "execute_result"
    }
   ],
   "source": [
    "# embedding = torch.tensor(embedding_matrix, dtype=torch.float32, device=device)\n",
    "# model = BiLSTMCRF(lstm_hidden_size=100, num_tags=len(label2id) + 1, \n",
    "#                   embedding_matrix=embedding)\n",
    "loss_fn = model.loss\n",
    "optimizer = torch.optim.Adam(model.parameters())\n",
    "\n",
    "model_trainer = ModelTrainer(model, loss_fn, optimizer, device=device)\n",
    "model_trainer.train(train_dataloader, val_dataloader, epochs=5, verbose=1, y_true=\"input\")"
   ]
  },
  {
   "cell_type": "code",
   "execution_count": 24,
   "metadata": {},
   "outputs": [],
   "source": [
    "# model_trainer.predict(train_dataloader, has_label=True)"
   ]
  },
  {
   "cell_type": "code",
   "execution_count": 125,
   "metadata": {},
   "outputs": [],
   "source": [
    "val_pred = model_trainer.predict(val_dataloader, has_label=True)\n",
    "train_dataloader_pred = build_dataloader(x_train, y_train, batch_size=64, shuffle=False, \n",
    "                                         device=device)\n",
    "train_pred = model_trainer.predict(train_dataloader_pred, has_label=True)"
   ]
  },
  {
   "cell_type": "code",
   "execution_count": 127,
   "metadata": {},
   "outputs": [],
   "source": [
    "val_pred_label = [[id2label[i] for i in s if i] for s in val_pred]\n",
    "train_pred_label = [[id2label[i] for i in s if i] for s in train_pred]"
   ]
  },
  {
   "cell_type": "code",
   "execution_count": 128,
   "metadata": {
    "scrolled": false
   },
   "outputs": [
    {
     "name": "stdout",
     "output_type": "stream",
     "text": [
      "O|O|O|O|O|O|B-ORG|I-ORG|I-ORG|I-ORG|I-ORG|I-ORG|I-ORG|O|B-ORG|I-ORG|I-ORG|I-ORG|I-ORG|I-ORG|O|O|O|O|O|O|O|O|O|O|O|O|O|O|O|O|B-PER|I-PER|I-PER|O|B-PER|I-PER|I-PER|O|B-PER|I-PER|I-PER|I-PER|O|O|O|O|O|O|O|O|O|O|O|O|O|O|O|O|O\n",
      "O|O|O|O|O|O|B-ORG|I-ORG|I-ORG|I-ORG|I-ORG|I-ORG|I-ORG|O|B-ORG|I-ORG|I-ORG|I-ORG|I-ORG|I-ORG|O|O|O|O|O|O|O|O|O|O|O|O|O|O|O|O|B-PER|I-PER|I-PER|O|B-PER|I-PER|I-PER|O|B-PER|I-PER|I-PER|O|O|O|O|O|O|O|O|O|O|O|O|O|O|O|O|O|O\n",
      "这|个|出|版|社|与|总|社|新|闻|研|究|所|、|中|国|新|闻|学|院|合|作|编|撰|的|国|家|“|九|五|”|重|点|图|书|《|毛|泽|东|、|邓|小|平|、|江|泽|民|新|闻|宣|传|思|想|研|究|》|已|取|得|实|质|性|进|展|。\n"
     ]
    }
   ],
   "source": [
    "i = 22\n",
    "print('|'.join(val_pred_label[i]))\n",
    "print('|'.join(val_labels[i]))\n",
    "print('|'.join(val_tokens[i]))"
   ]
  },
  {
   "cell_type": "code",
   "execution_count": 118,
   "metadata": {},
   "outputs": [],
   "source": [
    "from htorch.metrics.sequence import sequence_f1"
   ]
  },
  {
   "cell_type": "code",
   "execution_count": 129,
   "metadata": {},
   "outputs": [
    {
     "data": {
      "text/plain": [
       "(0.6143394044521538, 0.7088058705803869, 0.6582004026637758)"
      ]
     },
     "execution_count": 129,
     "metadata": {},
     "output_type": "execute_result"
    }
   ],
   "source": [
    "sequence_f1(y_val, val_pred, id2label)"
   ]
  },
  {
   "cell_type": "code",
   "execution_count": 130,
   "metadata": {},
   "outputs": [
    {
     "data": {
      "text/plain": [
       "(0.6322713126062823, 0.7159049625808327, 0.6714940452864908)"
      ]
     },
     "execution_count": 130,
     "metadata": {},
     "output_type": "execute_result"
    }
   ],
   "source": [
    "sequence_f1(y_train, train_pred, id2label)"
   ]
  },
  {
   "cell_type": "code",
   "execution_count": 131,
   "metadata": {},
   "outputs": [
    {
     "name": "stdout",
     "output_type": "stream",
     "text": [
      "O|O|O|O|O|O|B-ORG|I-ORG|I-ORG|I-ORG|I-ORG|I-ORG|I-ORG|O|B-ORG|I-ORG|I-ORG|I-ORG|I-ORG|I-ORG|O|O|O|O|O|O|O|O|O|O|O|O|O|O|O|O|B-PER|I-PER|I-PER|O|B-PER|I-PER|I-PER|O|B-PER|I-PER|I-PER|I-PER|O|O|O|O|O|O|O|O|O|O|O|O|O|O|O|O|O\n",
      "O|O|B-ORG|I-ORG|O|O|O|O|O|O|O|O|O|O|O|O|O|O|O|O|O|O|O|O|O|O|O|O|O|O|O|O|O|O|O|O|O|O|O|O|O|O|O\n",
      "熟|悉|世|行|运|作|的|人|士|说|，|贷|款|一|旦|被|推|迟|，|将|在|几|个|月|、|甚|至|可|能|更|长|的|时|间|后|才|能|被|重|新|考|虑|。\n"
     ]
    }
   ],
   "source": [
    "i = 22\n",
    "print('|'.join(val_pred_label[i]))\n",
    "print('|'.join(train_labels[i]))\n",
    "print('|'.join(train_tokens[i]))"
   ]
  },
  {
   "cell_type": "code",
   "execution_count": null,
   "metadata": {},
   "outputs": [],
   "source": []
  }
 ],
 "metadata": {
  "kernelspec": {
   "display_name": "pytorch",
   "language": "python",
   "name": "pytorch"
  },
  "language_info": {
   "codemirror_mode": {
    "name": "ipython",
    "version": 3
   },
   "file_extension": ".py",
   "mimetype": "text/x-python",
   "name": "python",
   "nbconvert_exporter": "python",
   "pygments_lexer": "ipython3",
   "version": "3.7.3"
  }
 },
 "nbformat": 4,
 "nbformat_minor": 2
}
